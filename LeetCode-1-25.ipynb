{
 "cells": [
  {
   "cell_type": "markdown",
   "metadata": {},
   "source": [
    "## 1. Two Sum"
   ]
  },
  {
   "cell_type": "code",
   "execution_count": null,
   "metadata": {},
   "outputs": [],
   "source": [
    ";;; 使用散列表\n",
    "(defun two-sum (nums target)\n",
    "  (let ((hash-table (make-hash-table)))\n",
    "    (loop for i below (length nums) do\n",
    "         (let* ((key (- target (nth i nums)))\n",
    "                (value (gethash key hash-table)))\n",
    "           (if value\n",
    "               (return (list value i))\n",
    "               (setf (gethash (nth i nums) hash-table) i))))))"
   ]
  },
  {
   "cell_type": "markdown",
   "metadata": {},
   "source": [
    "## 2. Add Two Numbers"
   ]
  },
  {
   "cell_type": "code",
   "execution_count": null,
   "metadata": {},
   "outputs": [],
   "source": [
    ";;; 对两个链表进行遍历，重复的代码有点多\n",
    "(defun add-two-numbers (l1 l2)\n",
    "  (let ((res nil)\n",
    "        (quotient)\n",
    "        (remainder 0))\n",
    "    (loop while (and l1 l2) do\n",
    "         (setf (values remainder quotient)\n",
    "               (floor (+ (car l1) (car l2) remainder) 10))\n",
    "         (push quotient res)\n",
    "         (setf l1 (cdr l1))\n",
    "         (setf l2 (cdr l2)))\n",
    "    (loop while l1 do\n",
    "         (setf (values remainder quotient)\n",
    "               (floor (+ (car l1) remainder) 10))\n",
    "         (push quotient res)\n",
    "         (setf l1 (cdr l1)))\n",
    "    (loop while l2 do\n",
    "         (setf (values remainder quotient)\n",
    "               (floor (+ (car l2) remainder) 10))\n",
    "         (push quotient res)\n",
    "         (setf l2 (cdr l2)))\n",
    "    (if (> remainder 0)\n",
    "        (reverse (push remainder res))\n",
    "        (reverse res))))"
   ]
  },
  {
   "cell_type": "code",
   "execution_count": null,
   "metadata": {},
   "outputs": [],
   "source": [
    ";;; 将重复的 loop while 部分进行抽取，勉强弄成这样\n",
    "(defmacro lw ((lst &optional (another '(0))) &body body)\n",
    "  `(loop while (and ,lst ,another) do\n",
    "        (setf (values remainder quotient)\n",
    "              (floor (+ (car ,lst)\n",
    "                        (car ,another)\n",
    "                        remainder) 10))\n",
    "        (push quotient res)\n",
    "        ,@body))\n",
    "\n",
    "(defun add-two-numbers (l1 l2)\n",
    "  (let ((res nil)\n",
    "        (quotient)\n",
    "        (remainder 0))\n",
    "    (lw (l1 l2)\n",
    "        (setf l1 (cdr l1))\n",
    "        (setf l2 (cdr l2)))\n",
    "    (lw (l1 '(0))\n",
    "        (setf l1 (cdr l1)))\n",
    "    (lw (l2 '(0))\n",
    "        (setf l2 (cdr l2)))\n",
    "    (if (> remainder 0)\n",
    "        (reverse (push remainder res))\n",
    "        (reverse res))))"
   ]
  },
  {
   "cell_type": "markdown",
   "metadata": {},
   "source": [
    "## 3. Longest Substring Without Repeating Characters"
   ]
  },
  {
   "cell_type": "code",
   "execution_count": null,
   "metadata": {},
   "outputs": [],
   "source": [
    ";;; 使用关联表 alist 存储出现字符与对应的索引\n",
    ";;; 函数 ASSOC 接受一个键和一个 alist 并返回第一个 CAR 匹配该键的点对单元\n",
    ";;; 双指针进行查找\n",
    "(defun length-of-longest-substring (s)\n",
    "  (let ((alist nil)\n",
    "        (longest-length 0)\n",
    "        (p -1))\n",
    "    (loop\n",
    "       for c across s\n",
    "       for index from 0 to (length s) do\n",
    "         (let ((cell (assoc c alist))\n",
    "               (size (- index p)))\n",
    "           (cond\n",
    "             (cell (setf p (cdr cell)))\n",
    "             ((> size longest-length) (setf longest-length size))))\n",
    "         (push (cons c index) alist))\n",
    "    longest-length))"
   ]
  },
  {
   "cell_type": "markdown",
   "metadata": {},
   "source": [
    "## 4. Median of Two Sorted Arrays"
   ]
  },
  {
   "cell_type": "code",
   "execution_count": null,
   "metadata": {},
   "outputs": [],
   "source": [
    ";;; 遍历两个数组并将数据放入新的排序好的数组中，再计算\n",
    ";;; multiple-value-bind 宏接受多重返回值\n",
    "(defun find-median-sorted-arrays (nums1 nums2)\n",
    "  (let ((lst nil)\n",
    "        (len (+ (length nums1) (length nums2))))\n",
    "    (loop while (and nums1 nums2) do\n",
    "         (if (< (car nums1) (car nums2))\n",
    "             (push (pop nums1) lst)\n",
    "             (push (pop nums2) lst)))\n",
    "    (setf lst (reverse lst))\n",
    "    (nconc lst nums1 nums2)\n",
    "    (multiple-value-bind (q r) (floor len 2)\n",
    "      (if (zerop r)\n",
    "          (/ (+ (nth q lst) (nth (1- q) lst)) 2)\n",
    "          (nth q lst)))))"
   ]
  },
  {
   "cell_type": "code",
   "execution_count": null,
   "metadata": {},
   "outputs": [],
   "source": [
    ";;; 将两个数组合并后排序，再计算\n",
    "(defun find-median-sorted-arrays-1 (nums1 nums2)\n",
    "  (let* ((lst (sort (append nil nums1 nums2) #'<))\n",
    "         (len (length lst)))\n",
    "    (multiple-value-bind (q r) (floor len 2)\n",
    "      (if (zerop r)\n",
    "          (/ (+ (nth q lst) (nth (1- q) lst)) 2)\n",
    "          (nth q lst)))))\n"
   ]
  },
  {
   "cell_type": "markdown",
   "metadata": {},
   "source": [
    "## 5. Longest Palindromic Substring"
   ]
  },
  {
   "cell_type": "code",
   "execution_count": null,
   "metadata": {},
   "outputs": [],
   "source": [
    ";;; 双指针进行查找，max-length 存储最大长度，start 存在最大长度开始位置。\n",
    ";;; 遍历过程中，判断当前指针与前 max-length + 1 或 max-length + 2 中\n",
    ";;; 的字符串是否为回文序列。\n",
    ";;; 使用宏抽取重复，感觉宏被用歪了 :)\n",
    "(defmacro increase-length (step)\n",
    "  `(let* ((in-start (- i max-length ,step -1))\n",
    "          (sub (subseq s in-start (+ i 1))))\n",
    "     (when (string= sub (reverse sub))\n",
    "       (incf max-length ,step)\n",
    "       (setf start in-start))))\n",
    "\n",
    "(defun longest-palindrome (s)\n",
    "  (let ((size (length s))\n",
    "        (start 0)\n",
    "        (max-length 1))\n",
    "    (if (string= s (reverse s))\n",
    "        (return-from longest-palindrome s))\n",
    "    (loop for i from 1 below size do\n",
    "         (if (null (if (>= (- i max-length 1) 0)\n",
    "                       (increase-length 2)))\n",
    "             (increase-length 1)))\n",
    "    (subseq s start (+ start max-length))))\n"
   ]
  },
  {
   "cell_type": "markdown",
   "metadata": {},
   "source": [
    "## 6. ZigZag Conversion"
   ]
  },
  {
   "cell_type": "code",
   "execution_count": null,
   "metadata": {},
   "outputs": [],
   "source": [
    ";;; 找到规律后按规律写出代码\n",
    "(defun convert (s num-rows)\n",
    "  (if (or (= 1 num-rows)\n",
    "          (> num-rows (length s)))\n",
    "      s\n",
    "      (let* ((length-s (length s))\n",
    "             (res (make-array length-s\n",
    "                              :fill-pointer 0\n",
    "                              :element-type 'character))\n",
    "             (step (* 2 (- num-rows 1))))\n",
    "        (loop for n below num-rows do\n",
    "             (do* ((idx n (+ idx step))\n",
    "                   (ex-idx (+ idx (- step (* 2 n))) (+ idx (- step (* 2 n)))))\n",
    "                  ((>= idx length-s))\n",
    "               (vector-push (elt s idx) res)\n",
    "               (if (and (< ex-idx length-s)\n",
    "                        (not (zerop n))\n",
    "                        (not (= idx ex-idx)))\n",
    "                   (vector-push (elt s ex-idx) res))))\n",
    "        res)))"
   ]
  },
  {
   "cell_type": "markdown",
   "metadata": {},
   "source": [
    "## 7. Reverse Integer"
   ]
  },
  {
   "cell_type": "code",
   "execution_count": null,
   "metadata": {},
   "outputs": [],
   "source": [
    ";;; 转换成字符串 :)\n",
    "(defun reverse-int (x)\n",
    "  (if (>= x 0)\n",
    "      (+ (parse-integer (reverse (write-to-string x))))\n",
    "      (- (parse-integer (reverse (write-to-string (abs x)))))))"
   ]
  },
  {
   "cell_type": "markdown",
   "metadata": {},
   "source": [
    "## 8. String to Integer (atoi)"
   ]
  },
  {
   "cell_type": "code",
   "execution_count": null,
   "metadata": {},
   "outputs": [],
   "source": [
    ";;; 使用数组而不是列表是因为 vector-push 能把元素添加到尾部\n",
    "(defun my-atoi (str)\n",
    "  (let ((str (string-trim \" \" str))\n",
    "        (digit (make-array 12\n",
    "                           :fill-pointer 0\n",
    "                           :element-type 'character)))\n",
    "    (if (zerop (length str))\n",
    "        (return-from my-atoi 0)\n",
    "        (vector-push (elt str 0) digit))\n",
    "    (loop for s across (subseq str 1) do\n",
    "         (if (digit-char-p s)\n",
    "             (vector-push s digit)\n",
    "             (return)))\n",
    "    (handler-case (let ((res (parse-integer digit))\n",
    "                        (limit (expt 2 31)))\n",
    "                    (cond ((> res (1- limit))\n",
    "                           (1- limit))\n",
    "                          ((< res (- limit))\n",
    "                           (- limit))\n",
    "                          (t res)))\n",
    "      (error () 0))))"
   ]
  },
  {
   "cell_type": "markdown",
   "metadata": {},
   "source": [
    "## 9. Palindrome Number"
   ]
  },
  {
   "cell_type": "code",
   "execution_count": null,
   "metadata": {},
   "outputs": [],
   "source": [
    "(defun is-palindrome (x)\n",
    "  (string= (write-to-string x)\n",
    "           (reverse (write-to-string x))))"
   ]
  },
  {
   "cell_type": "markdown",
   "metadata": {},
   "source": [
    "## 10. Regular Expression Matching"
   ]
  },
  {
   "cell_type": "code",
   "execution_count": null,
   "metadata": {},
   "outputs": [],
   "source": [
    ";;; 动态规划-备忘录进行匹配\n",
    "(defun is-match (s p)\n",
    "  (let ((memo (make-hash-table :test 'equal)))\n",
    "    (defun dp (str pattern)\n",
    "      (let ((key (list str pattern)))\n",
    "        (multiple-value-bind (value present) (gethash key memo)\n",
    "          (if present\n",
    "              value\n",
    "              (progn\n",
    "                (cond ((string= pattern \"\")\n",
    "                       (setf (gethash key memo) (string= str \"\")))\n",
    "                      ((string= str \"\")\n",
    "                       (setf (gethash key memo)\n",
    "                             (and (eql (position #\\* pattern) 1)\n",
    "                                  (dp str (subseq pattern 2)))))\n",
    "                      ((eql (position #\\* pattern) 1)\n",
    "                       (setf (gethash key memo)\n",
    "                             (or (dp str (subseq pattern 2))\n",
    "                                 (dp (subseq str 1) pattern))))\n",
    "                      ((or (string= (elt pattern 0) #\\.)\n",
    "                           (string= (elt pattern 0) (elt str 0)))\n",
    "                       (setf (gethash key memo)\n",
    "                             (dp (subseq str 1) (subseq pattern 1))))\n",
    "                      (t\n",
    "                       (setf (gethash key memo) nil)))\n",
    "                (gethash key memo))))))\n",
    "    (dp s p)))"
   ]
  },
  {
   "cell_type": "markdown",
   "metadata": {},
   "source": [
    "## 11. Container With Most Water"
   ]
  },
  {
   "cell_type": "code",
   "execution_count": null,
   "metadata": {},
   "outputs": [],
   "source": [
    ";;; 双指针\n",
    "(defmacro shorten (short i step)\n",
    "  `(progn\n",
    "     (incf ,i ,step)\n",
    "     (setf area (* ,short (- l r)))\n",
    "     (loop while (and (< r l) (< (nth ,i height) ,short)) do\n",
    "          (incf ,i ,step))))\n",
    "\n",
    "(defun max-area (height)\n",
    "  (let ((r 0)\n",
    "        (l (1- (length height)))\n",
    "        (area 0)\n",
    "        (max-area 0))\n",
    "    (loop while (< r l) do\n",
    "         (if (< (nth r height) (nth l height))\n",
    "             (shorten (nth r height) r 1)\n",
    "             (shorten (nth l height) l -1))\n",
    "         (if (> area max-area)\n",
    "             (setf max-area area)))\n",
    "    max-area))"
   ]
  },
  {
   "cell_type": "markdown",
   "metadata": {},
   "source": [
    "## 12. Integer to Roman"
   ]
  },
  {
   "cell_type": "code",
   "execution_count": null,
   "metadata": {},
   "outputs": [],
   "source": [
    ";;; :)\n",
    ";;; 自己实现的话，将个十百千位拆出来再转换\n",
    "(defun int-to-roman (num)\n",
    "  (format nil \"~@R\" num))"
   ]
  },
  {
   "cell_type": "markdown",
   "metadata": {},
   "source": [
    "## 13. Roman to Integer"
   ]
  },
  {
   "cell_type": "code",
   "execution_count": null,
   "metadata": {},
   "outputs": [],
   "source": [
    ";;; 每位字符转换为对应的数值，再计算\n",
    "(defun roman-to-integer (s)\n",
    "  (let* ((roman \"IVXLCDM\")\n",
    "         (nums '(1 5 10 50 100 500 1000))\n",
    "         (roman-nums (loop for c across s\n",
    "                        collect (nth (position c roman) nums))))\n",
    "    (loop for (a b) on roman-nums\n",
    "       sum (if (and b (< a b)) (- a) a))))"
   ]
  },
  {
   "cell_type": "markdown",
   "metadata": {},
   "source": [
    "## 14. Longest Common Prefix"
   ]
  },
  {
   "cell_type": "code",
   "execution_count": null,
   "metadata": {},
   "outputs": [],
   "source": [
    ";;; 按顺序取出所有对应字符，再判断是否全部相同\n",
    "(defun longest-common-prefix (strs)\n",
    "  (if (not strs)\n",
    "      (return-from longest-common-prefix \"\"))\n",
    "  (let* ((chars (apply #'map 'list #'list strs))\n",
    "         (size (length chars)))\n",
    "    (print chars)\n",
    "    (loop\n",
    "       for ch in chars\n",
    "       for i to size do\n",
    "         (if (not (= (length (remove-duplicates ch)) 1))\n",
    "             (return-from longest-common-prefix (subseq (first strs) 0 i))))\n",
    "    (subseq (first strs) 0 size)))"
   ]
  },
  {
   "cell_type": "markdown",
   "metadata": {},
   "source": [
    "## 15. 3Sum"
   ]
  },
  {
   "cell_type": "code",
   "execution_count": null,
   "metadata": {},
   "outputs": [],
   "source": [
    "(defun three-sum (nums)\n",
    "  (let ((table (make-hash-table))\n",
    "        (neg-nums nil)\n",
    "        (pos-nums nil)\n",
    "        (res nil))\n",
    "    (loop for n in nums do\n",
    "         (let ((value (gethash n table)))\n",
    "           (if value\n",
    "               (setf (gethash n table) (1+ value))\n",
    "               (setf (gethash n table) 1))))\n",
    "    (loop for k being the hash-keys in table do\n",
    "         (if (< k 0)\n",
    "             (push k neg-nums)\n",
    "             (push k pos-nums)))\n",
    "    (setf neg-nums (sort neg-nums '<))\n",
    "    (setf pos-nums (sort pos-nums '<))\n",
    "    (loop for n in neg-nums do\n",
    "         (loop for p in pos-nums do\n",
    "              (let* ((balance (- 0 n p))\n",
    "                     (value (gethash balance table)))\n",
    "                (if (and value\n",
    "                         (or (and (or (= balance n) (= balance p))\n",
    "                                  (> value 1))\n",
    "                             (and (< n balance)\n",
    "                                  (< balance p))))\n",
    "                    (push (list n balance p) res)))))\n",
    "    res))"
   ]
  },
  {
   "cell_type": "markdown",
   "metadata": {},
   "source": [
    "## 16. 3Sum Closest"
   ]
  },
  {
   "cell_type": "code",
   "execution_count": null,
   "metadata": {},
   "outputs": [],
   "source": [
    "(defun three-sum-closest (nums target)\n",
    "  (let ((size (length nums))\n",
    "        (nums (sort nums #'<))\n",
    "        (closest nil))\n",
    "    (loop for i to (- size 3) do\n",
    "         (let* ((a (1+ i))\n",
    "                (b (1- size))\n",
    "                (min (+ (nth i nums)\n",
    "                        (nth a nums)\n",
    "                        (nth (1+ a) nums)))\n",
    "                (max (+ (nth i nums)\n",
    "                        (nth (1- b) nums)\n",
    "                        (nth b nums))))\n",
    "           (cond\n",
    "             ((< max target) (push max closest))\n",
    "             ((> min target) (push min closest))\n",
    "             (t (loop while (< a b) do\n",
    "                     (let ((sum (+ (nth i nums)\n",
    "                                   (nth a nums)\n",
    "                                   (nth b nums))))\n",
    "                       (push sum closest)\n",
    "                       (cond\n",
    "                         ((< sum target) (incf a))\n",
    "                         ((> sum target) (decf b))\n",
    "                         (t (return-from three-sum-closest target)))))))))\n",
    "    (first (sort closest #'(lambda (x y)\n",
    "                             (< (abs (- x target))\n",
    "                                (abs (- y target))))))))"
   ]
  },
  {
   "cell_type": "markdown",
   "metadata": {},
   "source": [
    "## 17. Letter Combinations of a Phone Number"
   ]
  },
  {
   "cell_type": "code",
   "execution_count": null,
   "metadata": {},
   "outputs": [],
   "source": [
    "(defun letter-combinations (digits)\n",
    "  (let* ((letters (pairlis\n",
    "                   '(#\\2 #\\3 #\\4 #\\5 #\\6 #\\7 #\\8 #\\9)\n",
    "                   '(\"abc\" \"def\" \"ghi\" \"jkl\" \"mno\" \"pqrs\" \"tuv\" \"wxyz\")))\n",
    "         (res (loop for c across\n",
    "                   (cdr (assoc (elt digits 0) letters)) collect (string c))))\n",
    "    (loop for d across (subseq digits 1) do\n",
    "         (let ((strs nil))\n",
    "           (loop for a across (cdr (assoc d letters)) do\n",
    "                (loop for r in res do\n",
    "                     (push (concatenate 'string r `(,a)) strs)))\n",
    "           (setf res strs)))\n",
    "    res))"
   ]
  },
  {
   "cell_type": "markdown",
   "metadata": {},
   "source": [
    "## 18. 4Sum"
   ]
  },
  {
   "cell_type": "code",
   "execution_count": null,
   "metadata": {},
   "outputs": [],
   "source": [
    "(defun n-sum (nums target n &optional (result nil) (results nil))\n",
    "  (if (= n 2)\n",
    "      (let ((start 0)\n",
    "            (end (1- (length nums))))\n",
    "        (loop while (< start end) do\n",
    "             (let* ((a (nth start nums))\n",
    "                    (b (nth end nums))\n",
    "                    (s (+ a b)))\n",
    "               (cond\n",
    "                 ((= s target)\n",
    "                  (push (append result (list a b)) results)\n",
    "                  (incf start)\n",
    "                  (decf end)\n",
    "                  (loop while (and (< start end)\n",
    "                                   (= (nth start nums)\n",
    "                                      (nth (1- start) nums)))\n",
    "                     do (incf start))\n",
    "                  (loop while (and (< start end)\n",
    "                                   (= (nth end nums)\n",
    "                                      (nth (1+ end) nums)))\n",
    "                     do (decf end)))\n",
    "                 ((< s target)\n",
    "                  (incf start))\n",
    "                 (t\n",
    "                  (decf end))))))\n",
    "      ;; n > 2\n",
    "      (loop for i to (- (length nums) n) do\n",
    "           (if (and (not (zerop i))\n",
    "                    (= (nth i nums) (nth (1- i) nums)))\n",
    "               nil\n",
    "               (setf results (n-sum (subseq nums (1+ i))\n",
    "                                      (- target (nth i nums))\n",
    "                                      (1- n)\n",
    "                                      (append result (list (nth i nums)))\n",
    "                                      results)))))\n",
    "  results)\n",
    "\n",
    "(defun four-sum (nums target)\n",
    "  (n-sum (sort nums #'<) target 4))"
   ]
  },
  {
   "cell_type": "markdown",
   "metadata": {},
   "source": [
    "## 19. Remove Nth Node From End of List"
   ]
  },
  {
   "cell_type": "code",
   "execution_count": null,
   "metadata": {},
   "outputs": [],
   "source": [
    "(defun remove-nth-from-end (head n)\n",
    "  (let ((i (- (length head) n)))\n",
    "    (append (subseq head 0 i)\n",
    "            (subseq head (1+ i)))))"
   ]
  },
  {
   "cell_type": "markdown",
   "metadata": {},
   "source": [
    "## 20. Valid Parentheses"
   ]
  },
  {
   "cell_type": "code",
   "execution_count": null,
   "metadata": {},
   "outputs": [],
   "source": [
    "(defun is-valid (s)\n",
    "  (let ((res nil)\n",
    "        (pair (pairlis '(#\\) #\\] #\\}) '(#\\( #\\[ #\\{))))\n",
    "    (loop for c across s do\n",
    "         (if (and res\n",
    "                  (eql (first res) (cdr (assoc c pair))))\n",
    "             (pop res)\n",
    "             (push c res)))\n",
    "    (not res)))"
   ]
  },
  {
   "cell_type": "markdown",
   "metadata": {},
   "source": [
    "## 21. Merge Two Sorted Lists"
   ]
  },
  {
   "cell_type": "code",
   "execution_count": null,
   "metadata": {},
   "outputs": [],
   "source": [
    ";;; :)\n",
    ";;; 若是用 car 和 cdr 呢\n",
    "(defun merge-two-lists (l1 l2)\n",
    "  (sort (append l1 l2) #'<))"
   ]
  },
  {
   "cell_type": "markdown",
   "metadata": {},
   "source": [
    "## 22. Generate Parentheses"
   ]
  },
  {
   "cell_type": "code",
   "execution_count": null,
   "metadata": {},
   "outputs": [],
   "source": [
    ";;; 动态规划\n",
    "(let ((alist (pairlis '(0 1) (list nil '(\"()\")))))\n",
    "  (defun generate-parenthesis (n)\n",
    "    (cond\n",
    "      ((assoc n alist)\n",
    "       (cdr (assoc n alist)))\n",
    "      (t\n",
    "       (let ((res nil))\n",
    "         (loop for i from 1 below (1- n) do\n",
    "              (loop for a in (generate-parenthesis i) do\n",
    "                   (loop for b in (generate-parenthesis (- n 1 i)) do\n",
    "                        (push (concatenate 'string \"(\" a \")\" b)\n",
    "                              res))))\n",
    "         (loop for x in (generate-parenthesis (1- n)) do\n",
    "              (push (concatenate 'string \"(\" x \")\") res)\n",
    "              (push (concatenate 'string \"()\" x) res))\n",
    "         (push (cons n (remove-duplicates res :test #'string=))\n",
    "               alist)\n",
    "         (cdr (assoc n alist)))))))"
   ]
  },
  {
   "cell_type": "markdown",
   "metadata": {},
   "source": [
    "## 23. Merge k Sorted Lists"
   ]
  },
  {
   "cell_type": "code",
   "execution_count": null,
   "metadata": {},
   "outputs": [],
   "source": [
    ";;; 常规思路应该是先从合并两个有序列表开始\n",
    "(defun merge-k-lists (lists)\n",
    "  (sort (apply #'append lists) #'<))"
   ]
  },
  {
   "cell_type": "markdown",
   "metadata": {},
   "source": [
    "## 24. Swap Nodes in Pairs"
   ]
  },
  {
   "cell_type": "code",
   "execution_count": null,
   "metadata": {},
   "outputs": [],
   "source": [
    "(defun swap-pairs (head)\n",
    "  (loop for i below (floor (length head) 2) do\n",
    "       (rotatef (nth (* i 2) head) (nth (1+ (* i 2)) head)))\n",
    "  head)"
   ]
  },
  {
   "cell_type": "markdown",
   "metadata": {},
   "source": [
    "## 25. Reverse Nodes in k-Group"
   ]
  },
  {
   "cell_type": "code",
   "execution_count": null,
   "metadata": {},
   "outputs": [],
   "source": [
    "(defun reverse-k-group (lst k)\n",
    "  (let ((res (copy-list lst)))\n",
    "    (if (= k 1)\n",
    "        (return-from reverse-k-group res))\n",
    "    (loop for end from k to (length lst) by k do\n",
    "         (setf (subseq res (- end k) end)\n",
    "               (reverse (subseq res (- end k) end))))\n",
    "    res))"
   ]
  }
 ],
 "metadata": {
  "kernelspec": {
   "display_name": "SBCL Lisp",
   "language": "lisp",
   "name": "lisp"
  },
  "language_info": {
   "codemirror_mode": "text/x-common-lisp",
   "mimetype": "text/x-common-lisp",
   "name": "common-lisp",
   "pygments_lexer": "common-lisp",
   "version": "X3J13"
  }
 },
 "nbformat": 4,
 "nbformat_minor": 2
}
