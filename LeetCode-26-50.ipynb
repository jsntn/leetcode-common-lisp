{
 "cells": [
  {
   "cell_type": "markdown",
   "metadata": {},
   "source": [
    "## 26. Remove Duplicates from Sorted Array"
   ]
  },
  {
   "cell_type": "code",
   "execution_count": null,
   "metadata": {},
   "outputs": [],
   "source": [
    "(defun removeduplicates (nums)\n",
    "  (length (remove-duplicates nums)))"
   ]
  },
  {
   "cell_type": "markdown",
   "metadata": {},
   "source": [
    "## 27. Remove Element"
   ]
  },
  {
   "cell_type": "code",
   "execution_count": null,
   "metadata": {},
   "outputs": [],
   "source": [
    ";;; 使用 remove 或 delete 都可以做到，但因为不能使用额外的空间，\n",
    ";;; 那么可以有副作用的 delete，但原数组最终结果是未知的，不可行。\n",
    ";;;\n",
    ";;; 使用 car 和 pop，pop 是原地修改，但在函数中却不行。\n",
    ";;;\n",
    ";;; setf 或 rotatef 宏可以做到，最终使用双指针。\n",
    "(defun remove-element (nums val)\n",
    "  (let ((n (length nums))\n",
    "        (i 0))\n",
    "    (loop while (< i n) do\n",
    "         (if (= (nth i nums) val)\n",
    "             (rotatef (nth i nums)\n",
    "                      (nth (decf n) nums))\n",
    "             (incf i)))\n",
    "    n))"
   ]
  },
  {
   "cell_type": "markdown",
   "metadata": {},
   "source": [
    "## 28. Implement strStr()"
   ]
  },
  {
   "cell_type": "code",
   "execution_count": null,
   "metadata": {},
   "outputs": [],
   "source": [
    "(defun strstr (haystack needle)\n",
    "  (let ((needle-size (length needle)))\n",
    "    (loop for i to (- (length haystack)\n",
    "                      needle-size) do\n",
    "         (if (string= (subseq haystack i (+ i needle-size))\n",
    "                      needle)\n",
    "             (return-from strstr i)))\n",
    "    -1))"
   ]
  },
  {
   "cell_type": "markdown",
   "metadata": {},
   "source": [
    "## 29. Divide Two Integers"
   ]
  },
  {
   "cell_type": "code",
   "execution_count": null,
   "metadata": {},
   "outputs": [],
   "source": [
    ";;; 不能用乘、除、求模运算符。\n",
    ";;; 只用加减的话，时间复杂度与商的大小成正比。\n",
    ";;; 但位移可以实现类似乘除的操作。\n",
    "(defun divide (dividend divisor)\n",
    "  (let ((positive (and (> dividend 0)\n",
    "                       (> divisor 0)))\n",
    "        (dividend (abs dividend))\n",
    "        (divisor (abs divisor))\n",
    "        (res 0))\n",
    "    (loop while (> dividend divisor) do\n",
    "         (let ((temp divisor)\n",
    "               (m 1))\n",
    "           (loop while (> dividend temp) do\n",
    "                (decf dividend temp)\n",
    "                (incf res m)\n",
    "                (setf temp (ash temp 1))\n",
    "                (setf m (ash m 1)))))\n",
    "    (if (not positive)\n",
    "        (setf res (- res)))\n",
    "    (min (max res (- (expt 2 31))) (1- (expt 2 31)))))"
   ]
  },
  {
   "cell_type": "markdown",
   "metadata": {},
   "source": [
    "## 30. Substring with Concatenation of All Words"
   ]
  },
  {
   "cell_type": "code",
   "execution_count": null,
   "metadata": {},
   "outputs": [],
   "source": [
    "(defun find-substring (s words)\n",
    "  (let ((word-length (length (car words)))\n",
    "        (words-size (length words))\n",
    "        (hash-table (make-hash-table :test 'equal))\n",
    "        (res))\n",
    "    ;; 使用 hash-table 计算 words 中每个字符串出现的次数\n",
    "    (loop for word in words do\n",
    "         (incf (gethash word hash-table 0)))\n",
    "    (loop for i to (- (length s) (* word-length words-size)) do\n",
    "         (let ((plist)) ; 使用属性表存储子串出现次数\n",
    "           (loop for j below words-size do\n",
    "                (let* ((start (+ i (* j word-length)))\n",
    "                       (end (+ start word-length))\n",
    "                       (substr (subseq s start end))\n",
    "                       (key (intern substr \"KEYWORD\")))\n",
    "                  (if (< (getf plist key 0)\n",
    "                         (gethash substr hash-table -1))\n",
    "                      (incf (getf plist key 0))\n",
    "                      (return)))\n",
    "              finally (push i res))))\n",
    "    res))"
   ]
  },
  {
   "cell_type": "markdown",
   "metadata": {},
   "source": [
    "## 31. Next Permutation\n",
    "\n",
    "算法参考维基百科 - [全排列生成算法 - 字典序法](https://zh.wikipedia.org/wiki/%E5%85%A8%E6%8E%92%E5%88%97%E7%94%9F%E6%88%90%E7%AE%97%E6%B3%95#%E5%AD%97%E5%85%B8%E5%BA%8F%E6%B3%95)\n",
    "\n",
    "设P是集合{1，2，……n-1，n}的一个全排列：P=P1P2……Pj-1PjPj+1……Pn（1≤P1，P2，……，Pn≤n-1）\n",
    "1. 从排列的右端开始，找出第一个比右边数字小的数字的序号j，即j=max{i|Pi<Pi+1，i>j}\n",
    "2. 在Pj的右边的数字中，找出所有比Pj大的数字中最小的数字Pk，即k=min{i|Pi>Pj，i>j}\n",
    "3. 交换Pi，Pk\n",
    "4. 再将排列右端的递减部分Pj+1Pj+2……Pn倒转，因为j右端的数字是降序，所以只需要其左边和右边的交换，直到中间，因此可以得到一个新的排列P'=P1P2……Pj-1PkPn……Pj+2Pj+1。\n",
    "\n",
    "另可参考 [Next lexicographical permutation algorithm](https://www.nayuki.io/page/next-lexicographical-permutation-algorithm)"
   ]
  },
  {
   "cell_type": "code",
   "execution_count": null,
   "metadata": {},
   "outputs": [],
   "source": [
    ";;; 下一个全排列，in-place\n",
    "(defun next-permutation (nums)\n",
    "  (let* ((size (length nums))\n",
    "         ;; 从右端开始找出算法中的 j\n",
    "         (j (loop for i from (- size 2) downto 0 do\n",
    "                 (if (< (nth i nums)\n",
    "                        (nth (1+ i) nums))\n",
    "                     (return i)))))\n",
    "    (if j\n",
    "        ;; 找到 j 之后寻找算法中的 k\n",
    "        (let* ((k (1+ j)))\n",
    "          (loop for i from (1+ j) below size do\n",
    "               (if (and (< (nth j nums)\n",
    "                           (nth i nums))\n",
    "                        (< (nth i nums)\n",
    "                           (nth k nums)))\n",
    "                   (setf k i)))\n",
    "          (when (< (nth j nums)\n",
    "                   (nth k nums))\n",
    "            (rotatef (nth j nums) (nth k nums))\n",
    "            (let ((start (1+ j))\n",
    "                  (end (1- size)))\n",
    "              (loop while (< start end) do\n",
    "                   (rotatef (nth start nums) (nth end nums))\n",
    "                   (incf start)\n",
    "                   (decf end)))))\n",
    "        ;; 未找到符合条件的 j，将输入逆序\n",
    "        (let ((start 0)\n",
    "              (end (1- size)))\n",
    "          (loop while (< start end) do\n",
    "               (rotatef (nth start nums) (nth end nums))\n",
    "               (incf start)\n",
    "               (decf end))))))"
   ]
  },
  {
   "cell_type": "markdown",
   "metadata": {},
   "source": [
    "## 32. Longest Valid Parentheses"
   ]
  },
  {
   "cell_type": "code",
   "execution_count": null,
   "metadata": {},
   "outputs": [],
   "source": [
    ";;; 刚开始想到用动态规划，后来发现直接使用栈就可以了，更简单清晰。\n",
    ";;; Lisp 中的列表来代替实现栈，更加方便。\n",
    "(defun longest-valid-parentheses (s)\n",
    "  (let ((stack)\n",
    "        (longest 0))\n",
    "    (loop for c across s \n",
    "       for i to (length s) do\n",
    "         (if (and (equal (car (car stack)) #\\()\n",
    "                  (equal c #\\)))\n",
    "             (progn\n",
    "               (pop stack)\n",
    "               (if (null stack)\n",
    "                   (setf longest (1+ i))\n",
    "                   (setf longest (- i (cdr (car stack))))))\n",
    "             (push (cons c i) stack)))\n",
    "    longest))"
   ]
  },
  {
   "cell_type": "markdown",
   "metadata": {},
   "source": [
    "## 33. Search in Rotated Sorted Array\n",
    "\n",
    "算法参考 [Clever idea making it simple](https://leetcode.com/problems/search-in-rotated-sorted-array/discuss/14435/Clever-idea-making-it-simple) 与 [Pretty short C++/Java/Ruby/Python](https://leetcode.com/problems/search-in-rotated-sorted-array/discuss/14419/Pretty-short-C%2B%2BJavaRubyPython)\n",
    "\n",
    "假设查找的范围为 `lo` ~ `hi`，`mid` 为范围中间的索引。使 `target` 在 `mid` 右边（`lo = mid + `）的所有可能为：\n",
    "\n",
    "1. nums[0] > target and (nums[0] > nums[mid] == target > nums[mid])\n",
    "2. nums[0] < target and nums[0] > nums[mid] and target > nums[mid]"
   ]
  },
  {
   "cell_type": "code",
   "execution_count": null,
   "metadata": {},
   "outputs": [],
   "source": [
    ";;; \n",
    "(defun search-rotated-sorted (nums target)\n",
    "  (let ((lo 0)\n",
    "        (hi (length nums)))\n",
    "    (loop while (< lo hi) do\n",
    "         (let ((mid (floor (+ lo hi) 2)))\n",
    "           ;; 实现类似异或的操作，`logxor` 使用数值为参数，不符合要求。\n",
    "           ;; 可使用 `reduce` 宏自己写一个作用于 `t` 与 `nil` 之上的异或操作\n",
    "           ;; (reduce #'(lambda (x y) (not (equal x y))) sequence)\n",
    "           (if (not (equal (not (equal (> (first nums) target)\n",
    "                                       (> (first nums) (nth mid nums))))\n",
    "                           (> target (nth mid nums))))\n",
    "               (setf lo (1+ mid))\n",
    "               (if (= (nth mid nums) target)\n",
    "                   (return mid)\n",
    "                   (setf hi mid))))\n",
    "       finally (return -1))))"
   ]
  },
  {
   "cell_type": "code",
   "execution_count": null,
   "metadata": {},
   "outputs": [],
   "source": []
  }
 ],
 "metadata": {
  "kernelspec": {
   "display_name": "SBCL Lisp",
   "language": "lisp",
   "name": "lisp"
  },
  "language_info": {
   "codemirror_mode": "text/x-common-lisp",
   "mimetype": "text/x-common-lisp",
   "name": "common-lisp",
   "pygments_lexer": "common-lisp",
   "version": "X3J13"
  }
 },
 "nbformat": 4,
 "nbformat_minor": 2
}
