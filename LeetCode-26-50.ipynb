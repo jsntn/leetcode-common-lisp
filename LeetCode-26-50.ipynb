{
 "cells": [
  {
   "cell_type": "markdown",
   "metadata": {},
   "source": [
    "## 26. Remove Duplicates from Sorted Array"
   ]
  },
  {
   "cell_type": "code",
   "execution_count": null,
   "metadata": {},
   "outputs": [],
   "source": [
    "(defun removeduplicates (nums)\n",
    "  (length (remove-duplicates nums)))"
   ]
  },
  {
   "cell_type": "markdown",
   "metadata": {},
   "source": [
    "## 27. Remove Element"
   ]
  },
  {
   "cell_type": "code",
   "execution_count": null,
   "metadata": {},
   "outputs": [],
   "source": [
    ";;; 使用 remove 或 delete 都可以做到，但因为不能使用额外的空间，\n",
    ";;; 那么可以有副作用的 delete，但原数组最终结果是未知的，不可行。\n",
    ";;;\n",
    ";;; 使用 car 和 pop，pop 是原地修改，但在函数中却不行。\n",
    ";;;\n",
    ";;; setf 或 rotatef 宏可以做到，最终使用双指针。\n",
    "(defun remove-element (nums val)\n",
    "  (let ((n (length nums))\n",
    "        (i 0))\n",
    "    (loop while (< i n) do\n",
    "         (if (= (nth i nums) val)\n",
    "             (rotatef (nth i nums)\n",
    "                      (nth (decf n) nums))\n",
    "             (incf i)))\n",
    "    n))"
   ]
  },
  {
   "cell_type": "markdown",
   "metadata": {},
   "source": [
    "## 28. Implement strStr()"
   ]
  },
  {
   "cell_type": "code",
   "execution_count": null,
   "metadata": {},
   "outputs": [],
   "source": [
    "(defun strstr (haystack needle)\n",
    "  (let ((needle-size (length needle)))\n",
    "    (loop for i to (- (length haystack)\n",
    "                      needle-size) do\n",
    "         (if (string= (subseq haystack i (+ i needle-size))\n",
    "                      needle)\n",
    "             (return-from strstr i)))\n",
    "    -1))"
   ]
  },
  {
   "cell_type": "markdown",
   "metadata": {},
   "source": [
    "## 29. Divide Two Integers"
   ]
  },
  {
   "cell_type": "code",
   "execution_count": null,
   "metadata": {},
   "outputs": [],
   "source": [
    ";;; 不能用乘、除、求模运算符。\n",
    ";;; 只用加减的话，时间复杂度与商的大小成正比。\n",
    ";;; 但位移可以实现类似乘除的操作。\n",
    "(defun divide (dividend divisor)\n",
    "  (let ((positive (and (> dividend 0)\n",
    "                       (> divisor 0)))\n",
    "        (dividend (abs dividend))\n",
    "        (divisor (abs divisor))\n",
    "        (res 0))\n",
    "    (loop while (> dividend divisor) do\n",
    "         (let ((temp divisor)\n",
    "               (m 1))\n",
    "           (loop while (> dividend temp) do\n",
    "                (decf dividend temp)\n",
    "                (incf res m)\n",
    "                (setf temp (ash temp 1))\n",
    "                (setf m (ash m 1)))))\n",
    "    (if (not positive)\n",
    "        (setf res (- res)))\n",
    "    (min (max res (- (expt 2 31))) (1- (expt 2 31)))))"
   ]
  },
  {
   "cell_type": "markdown",
   "metadata": {},
   "source": [
    "## 30. Substring with Concatenation of All Words"
   ]
  },
  {
   "cell_type": "code",
   "execution_count": null,
   "metadata": {},
   "outputs": [],
   "source": [
    "(defun find-substring (s words)\n",
    "  (let ((word-length (length (car words)))\n",
    "        (words-size (length words))\n",
    "        (hash-table (make-hash-table :test 'equal))\n",
    "        (res))\n",
    "    ;; 使用 hash-table 计算 words 中每个字符串出现的次数\n",
    "    (loop for word in words do\n",
    "         (incf (gethash word hash-table 0)))\n",
    "    (loop for i to (- (length s) (* word-length words-size)) do\n",
    "         (let ((plist)) ; 使用属性表存储子串出现次数\n",
    "           (loop for j below words-size do\n",
    "                (let* ((start (+ i (* j word-length)))\n",
    "                       (end (+ start word-length))\n",
    "                       (substr (subseq s start end))\n",
    "                       (key (intern substr \"KEYWORD\")))\n",
    "                  (if (< (getf plist key 0)\n",
    "                         (gethash substr hash-table -1))\n",
    "                      (incf (getf plist key 0))\n",
    "                      (return)))\n",
    "              finally (push i res))))\n",
    "    res))"
   ]
  },
  {
   "cell_type": "markdown",
   "metadata": {},
   "source": [
    "## 31. Next Permutation\n",
    "\n",
    "算法参考维基百科 - [全排列生成算法 - 字典序法](https://zh.wikipedia.org/wiki/%E5%85%A8%E6%8E%92%E5%88%97%E7%94%9F%E6%88%90%E7%AE%97%E6%B3%95#%E5%AD%97%E5%85%B8%E5%BA%8F%E6%B3%95)\n",
    "\n",
    "设P是集合{1，2，……n-1，n}的一个全排列：P=P1P2……Pj-1PjPj+1……Pn（1≤P1，P2，……，Pn≤n-1）\n",
    "1. 从排列的右端开始，找出第一个比右边数字小的数字的序号j，即j=max{i|Pi<Pi+1，i>j}\n",
    "2. 在Pj的右边的数字中，找出所有比Pj大的数字中最小的数字Pk，即k=min{i|Pi>Pj，i>j}\n",
    "3. 交换Pi，Pk\n",
    "4. 再将排列右端的递减部分Pj+1Pj+2……Pn倒转，因为j右端的数字是降序，所以只需要其左边和右边的交换，直到中间，因此可以得到一个新的排列P'=P1P2……Pj-1PkPn……Pj+2Pj+1。\n",
    "\n",
    "另可参考 [Next lexicographical permutation algorithm](https://www.nayuki.io/page/next-lexicographical-permutation-algorithm)"
   ]
  },
  {
   "cell_type": "code",
   "execution_count": null,
   "metadata": {},
   "outputs": [],
   "source": [
    ";;; 下一个全排列，in-place\n",
    "(defun next-permutation (nums)\n",
    "  (let* ((size (length nums))\n",
    "         ;; 从右端开始找出算法中的 j\n",
    "         (j (loop for i from (- size 2) downto 0 do\n",
    "                 (if (< (nth i nums)\n",
    "                        (nth (1+ i) nums))\n",
    "                     (return i)))))\n",
    "    (if j\n",
    "        ;; 找到 j 之后寻找算法中的 k\n",
    "        (let* ((k (1+ j)))\n",
    "          (loop for i from (1+ j) below size do\n",
    "               (if (and (< (nth j nums)\n",
    "                           (nth i nums))\n",
    "                        (< (nth i nums)\n",
    "                           (nth k nums)))\n",
    "                   (setf k i)))\n",
    "          (when (< (nth j nums)\n",
    "                   (nth k nums))\n",
    "            (rotatef (nth j nums) (nth k nums))\n",
    "            (let ((start (1+ j))\n",
    "                  (end (1- size)))\n",
    "              (loop while (< start end) do\n",
    "                   (rotatef (nth start nums) (nth end nums))\n",
    "                   (incf start)\n",
    "                   (decf end)))))\n",
    "        ;; 未找到符合条件的 j，将输入逆序\n",
    "        (let ((start 0)\n",
    "              (end (1- size)))\n",
    "          (loop while (< start end) do\n",
    "               (rotatef (nth start nums) (nth end nums))\n",
    "               (incf start)\n",
    "               (decf end))))))"
   ]
  },
  {
   "cell_type": "markdown",
   "metadata": {},
   "source": [
    "## 32. Longest Valid Parentheses"
   ]
  },
  {
   "cell_type": "code",
   "execution_count": null,
   "metadata": {},
   "outputs": [],
   "source": [
    ";;; 刚开始想到用动态规划，后来发现直接使用栈就可以了，更简单清晰。\n",
    ";;; Lisp 中的列表来代替实现栈，更加方便。\n",
    "(defun longest-valid-parentheses (s)\n",
    "  (let ((stack)\n",
    "        (longest 0))\n",
    "    (loop for c across s \n",
    "       for i to (length s) do\n",
    "         (if (and (equal (car (car stack)) #\\()\n",
    "                  (equal c #\\)))\n",
    "             (progn\n",
    "               (pop stack)\n",
    "               (if (null stack)\n",
    "                   (setf longest (1+ i))\n",
    "                   (setf longest (- i (cdr (car stack))))))\n",
    "             (push (cons c i) stack)))\n",
    "    longest))"
   ]
  },
  {
   "cell_type": "markdown",
   "metadata": {},
   "source": [
    "## 33. Search in Rotated Sorted Array\n",
    "\n",
    "算法参考 [Clever idea making it simple](https://leetcode.com/problems/search-in-rotated-sorted-array/discuss/14435/Clever-idea-making-it-simple) 与 [Pretty short C++/Java/Ruby/Python](https://leetcode.com/problems/search-in-rotated-sorted-array/discuss/14419/Pretty-short-C%2B%2BJavaRubyPython)\n",
    "\n",
    "假设查找的范围为 `lo` ~ `hi`，`mid` 为范围中间的索引。使 `target` 在 `mid` 右边（`lo = mid + `）的所有可能为：\n",
    "\n",
    "1. nums[0] > target and (nums[0] > nums[mid] == target > nums[mid])\n",
    "2. nums[0] < target and nums[0] > nums[mid] and target > nums[mid]"
   ]
  },
  {
   "cell_type": "code",
   "execution_count": null,
   "metadata": {},
   "outputs": [],
   "source": [
    ";;; \n",
    "(defun search-rotated-sorted (nums target)\n",
    "  (let ((lo 0)\n",
    "        (hi (length nums)))\n",
    "    (loop while (< lo hi) do\n",
    "         (let ((mid (floor (+ lo hi) 2)))\n",
    "           ;; 实现类似异或的操作，`logxor` 使用数值为参数，不符合要求。\n",
    "           ;; 可使用 `reduce` 宏自己写一个作用于 `t` 与 `nil` 之上的异或操作\n",
    "           ;; (reduce #'(lambda (x y) (not (equal x y))) sequence)\n",
    "           (if (not (equal (not (equal (> (first nums) target)\n",
    "                                       (> (first nums) (nth mid nums))))\n",
    "                           (> target (nth mid nums))))\n",
    "               (setf lo (1+ mid))\n",
    "               (if (= (nth mid nums) target)\n",
    "                   (return mid)\n",
    "                   (setf hi mid))))\n",
    "       finally (return -1))))"
   ]
  },
  {
   "cell_type": "markdown",
   "metadata": {},
   "source": [
    "## 34. Find First and Last Position of Element in Sorted Array\n",
    "\n",
    "先二分查找，定位到目标值 target，未找到直接返回 `[-1, -1]`，找到则从该位置两端找出第一个和最后一个目标值。"
   ]
  },
  {
   "cell_type": "code",
   "execution_count": null,
   "metadata": {},
   "outputs": [],
   "source": [
    "(defun search-range (nums target)\n",
    "  (let ((start 0)\n",
    "        (end (length nums)))\n",
    "    (loop while (< start end) do\n",
    "         (let ((mid (floor (+ start end) 2)))\n",
    "           (cond\n",
    "             ((< (nth mid nums) target)\n",
    "              (setf start (1+ mid)))\n",
    "             ((> (nth mid nums) target)\n",
    "              (setf end mid))\n",
    "             (t\n",
    "              ;; nums[mid] == target\n",
    "              (let ((first-position mid)\n",
    "                    (last-position mid))\n",
    "                (loop while (and (> 0 first-position)\n",
    "                                 (= target (nth (1- first-position) nums))) do\n",
    "                     (decf first-position))\n",
    "                (loop while (and (< last-position (length nums))\n",
    "                                 (= target (nth (1+ last-position) nums))) do\n",
    "                     (incf last-position))\n",
    "                (return (list first-position last-position))))))\n",
    "       finally (return '(-1 -1)))))"
   ]
  },
  {
   "cell_type": "markdown",
   "metadata": {},
   "source": [
    "## 35. Search Insert Position\n",
    "\n",
    "原数组中没有重复元素，二分查找要插入的位置，直至剩余最后一个数，若大于或等于 target，则返回该值所在位置，否则返回该值的前一个位置。"
   ]
  },
  {
   "cell_type": "code",
   "execution_count": null,
   "metadata": {},
   "outputs": [],
   "source": [
    "(defun search-insert (nums target)\n",
    "  (let ((lo 0)\n",
    "        (hi (length nums)))\n",
    "    (loop while (< lo hi) do\n",
    "         (let ((mid (floor (+ lo hi) 2)))\n",
    "           (cond \n",
    "             ((> (nth mid nums) target)\n",
    "              (setf hi mid))\n",
    "             ((< (nth mid nums) target)\n",
    "              (setf lo (1+ mid)))\n",
    "             (t\n",
    "              (return mid))))\n",
    "       finally (if (> (nth lo nums) target)\n",
    "                   (return lo)\n",
    "                   (return (1- lo))))))"
   ]
  },
  {
   "cell_type": "markdown",
   "metadata": {},
   "source": [
    "## 36. Valid Sudoku\n",
    "\n",
    "实际只要验证九横九列再加九个 `3x3` 方格即可。"
   ]
  },
  {
   "cell_type": "code",
   "execution_count": null,
   "metadata": {},
   "outputs": [],
   "source": [
    "(defun not-valid-sudoku (box) ; 验证除 \".\" 外是否有重复\n",
    "  (let ((digits (remove \".\" box :test #'string=)))\n",
    "    (not (= (length digits)\n",
    "            (length (remove-duplicates digits :test #'string=))))))\n",
    "\n",
    "(defun is-valid-sudoku (board)\n",
    "  (loop for i to 8 \n",
    "     do (cond ((not-valid-sudoku (nth i board)) ; 验证行\n",
    "               (return nil))\n",
    "              ;; 验证列\n",
    "              ((not-valid-sudoku (loop for row in board\n",
    "                                    collect (nth i row)))\n",
    "               (return nil))\n",
    "              ;; 验证 3x3 方格，(x, y) 为 3x3 方格左上角顶点\n",
    "              ((not-valid-sudoku (let ((x (*(floor i 3) 3))\n",
    "                                       (y (* (mod i 3) 3)))\n",
    "                                   (loop for row from x below (+ x 3)\n",
    "                                      append (subseq (nth row board)\n",
    "                                                     y\n",
    "                                                     (+ y 3)))))\n",
    "               (return nil)))\n",
    "     finally (return t)))"
   ]
  },
  {
   "cell_type": "markdown",
   "metadata": {},
   "source": [
    "## 37. Sudoku Solver\n",
    "\n",
    "想法：\n",
    "\n",
    "1. 先找出所有空白位置的所有可能值；\n",
    "2. 遍历空白位置，当前空白位置的可能值与行、列、3x3 方格中其他空白位置的可能值作补集，只剩一个元素值的补集，即为该位置的值。\n",
    "\n",
    "网上看了一下，回溯算法还没试过。"
   ]
  },
  {
   "cell_type": "code",
   "execution_count": null,
   "metadata": {},
   "outputs": [],
   "source": [
    "(defun solve-sudoku (board)\n",
    "  (let ((empty 0))\n",
    "    (loop for row to 8\n",
    "       do (loop for col to 8\n",
    "             do (when (string= \".\"\n",
    "                               (nth col (nth row board)))\n",
    "                  (incf empty) ; 空白位置 +1\n",
    "                  ;; 设置空白位置为所有可能取值组成的列表\n",
    "                  (setf (nth col (nth row board))\n",
    "                        (sudoku-probability board row col)))))\n",
    "    (loop while (> empty 0)\n",
    "       do (loop for row to 8\n",
    "             do (loop for col to 8\n",
    "                   do (when (equal (type-of (nth col (nth row board)))\n",
    "                                   'cons)\n",
    "                        ;; 该位置类型是列表时，更新其所有可能的取值\n",
    "                        (setf (nth col (nth row board))\n",
    "                              (sudoku-probability board row col))\n",
    "                        ;; 列表长度为 1，该位置确定\n",
    "                        (if (= (length (nth col (nth row board))) 1)\n",
    "                            (progn\n",
    "                              (setf (nth col (nth row board))\n",
    "                                    (first (nth col (nth row board))))\n",
    "                              (decf empty))\n",
    "                            ;; 某一补集长度恰好为 1 时，该位置值确定\n",
    "                            (let ((complement (single-sudoku-complement\n",
    "                                               board\n",
    "                                               row\n",
    "                                               col)))\n",
    "                              (when complement\n",
    "                                (setf (nth col (nth row board))\n",
    "                                      (first complement))\n",
    "                                (decf empty))))))))))\n",
    "\n",
    "\n",
    "(defun sudoku-boxes (board row col)\n",
    "  \"获取根据所在行列位置获取所在行、列、3x3 方格\"\n",
    "  (list\n",
    "   ;; 行\n",
    "   (nth row board)\n",
    "   ;; 列\n",
    "   (loop for board-row in board\n",
    "      collect (nth col board-row))\n",
    "   ;; 3x3 方格，(x, y) 为 3x3 方格左上角顶点\n",
    "   (let ((x (* (floor row 3) 3))\n",
    "         (y (* (floor col 3) 3)))\n",
    "     (loop for row from x below (+ x 3)\n",
    "        append (subseq (nth row board)\n",
    "                       y\n",
    "                       (+ y 3))))))\n",
    "\n",
    "\n",
    ";;; 获取根据行和列获取该位置的所有可能取值，数独中可能有 \".\"、列表、数字字符串。\n",
    "(defun sudoku-probability (board row col)\n",
    "  \"获取根据行和列获取该位置的所有可能取值\"\n",
    "  (set-difference\n",
    "   '(\"1\" \"2\" \"3\" \"4\" \"5\" \"6\" \"7\" \"8\" \"9\")\n",
    "   (loop for cell in (apply #'append \n",
    "                            (sudoku-boxes board row col))\n",
    "      unless (or (equal \".\" cell)\n",
    "                 (equal (type-of cell)\n",
    "                        'cons))\n",
    "      collect cell)\n",
    "   :test #'string=))\n",
    "\n",
    "\n",
    "(defun single-sudoku-complement (board row col)\n",
    "  \"获取补集长度为 1 的列表中的元素，没有则返回 nil\"\n",
    "  (let ((current (nth col (nth row board))))\n",
    "    (loop for box in (sudoku-boxes board row col)\n",
    "       do (if (= (length (set-difference current box)) 1)\n",
    "              (return (first (set-difference current box)))))))"
   ]
  },
  {
   "cell_type": "markdown",
   "metadata": {},
   "source": [
    "## 38. Count and Say\n",
    "\n",
    "一开始没明白题意，明白题目什么意思就知道怎么做了。"
   ]
  },
  {
   "cell_type": "code",
   "execution_count": null,
   "metadata": {},
   "outputs": [],
   "source": [
    "(let ((say-table (make-hash-table)))\n",
    "  ;; 使用散列表进行缓存\n",
    "  (setf (gethash 1 say-table) \"1\")\n",
    "  (defun count-and-say (n)\n",
    "    (cond\n",
    "      ((gethash n say-table)\n",
    "       (gethash n say-table))\n",
    "      (t\n",
    "       (setf (gethash n say-table)\n",
    "             (count-nums (count-and-say (1- n))))\n",
    "       (gethash n say-table)))))\n",
    "\n",
    "\n",
    "(defun count-nums (nums-string)\n",
    "  \"计算字符串中数字首先的次数，相邻并相同的为一组计算\"\n",
    "  (with-output-to-string (out)\n",
    "    (let ((pre-num (elt nums-string 0))\n",
    "          (count 0))\n",
    "      (loop for num across nums-string\n",
    "         do (if (string= num pre-num)\n",
    "                (incf count)\n",
    "                (progn\n",
    "                  (format out \"~a~a\" count pre-num)\n",
    "                  (setf count 1 pre-num num)))\n",
    "         finally (format out \"~a~a\" count pre-num))\n",
    "      out)))"
   ]
  },
  {
   "cell_type": "markdown",
   "metadata": {},
   "source": [
    "## 39. Combination Sum\n",
    "\n",
    "使用递归。"
   ]
  },
  {
   "cell_type": "code",
   "execution_count": null,
   "metadata": {},
   "outputs": [],
   "source": [
    "(defun combination-sum (candidates target)\n",
    "  (cond\n",
    "    ((= target 0)\n",
    "     (values nil t))\n",
    "    ((< target 0)\n",
    "     (values nil nil))\n",
    "    (t\n",
    "     (let ((res))\n",
    "       (loop for c in candidates\n",
    "          for start to (length candidates)\n",
    "          do (multiple-value-bind (solutions has-solution)\n",
    "                 (combination-sum (subseq candidates start) (- target c))\n",
    "               ;; 有解\n",
    "               (when has-solution\n",
    "                 (if solutions\n",
    "                     (loop for s in solutions do\n",
    "                          (push (push c s) res))\n",
    "                     ;; c 恰好为解\n",
    "                     (push `(,c) res)))))\n",
    "       (if res\n",
    "           (values res t)\n",
    "           (values nil nil))))))"
   ]
  },
  {
   "cell_type": "markdown",
   "metadata": {},
   "source": [
    "## 40. Combination Sum II\n",
    "\n",
    "跟上一题差不多，输出集有重复元素，但不能重复使用同一个元素，结果也不能有重复。"
   ]
  },
  {
   "cell_type": "code",
   "execution_count": null,
   "metadata": {},
   "outputs": [],
   "source": [
    "(defun combination-sum-2 (candidates target)\n",
    "  (cond\n",
    "    ((= target 0)\n",
    "     (values nil t))\n",
    "    ((< target 0)\n",
    "     (values nil nil))\n",
    "    (t\n",
    "     (let ((res))\n",
    "       (loop for c in candidates\n",
    "          for start from 1 to (length candidates)\n",
    "          do (multiple-value-bind (solutions has-solution)\n",
    "                 (combination-sum (subseq candidates start) (- target c))\n",
    "               ;; 有解\n",
    "               (when has-solution\n",
    "                 (if solutions\n",
    "                     (loop for s in solutions do\n",
    "                          (push (push c s) res))\n",
    "                     ;; c 恰好为解\n",
    "                     (push `(,c) res)))))\n",
    "       (if res\n",
    "           (values (remove-duplicates\n",
    "                    res\n",
    "                    :test #'(lambda (x y) (not (set-difference x y))))\n",
    "                   t)\n",
    "           (values nil nil))))))"
   ]
  },
  {
   "cell_type": "markdown",
   "metadata": {},
   "source": [
    "## 41. First Missing Positive\n",
    "\n",
    "没有思路。看了网上的解法，把数组中的正整数 num 放到数组的第 num-1 个位置。然后再次循环，找出第一个不对应的，就是第一个缺失的正整数。最终做的时候思路不够清晰。"
   ]
  },
  {
   "cell_type": "code",
   "execution_count": null,
   "metadata": {},
   "outputs": [],
   "source": [
    "(defun first-missing-positive (nums)\n",
    "  (let ((nums-size (length nums)))\n",
    "    (loop for i below nums-size\n",
    "       ;; 0 < nums[i] <= nums - size 且当前位置值 nums[i] != i + 1 时\n",
    "       do (loop while (and (> (nth i nums) 0)\n",
    "                           (<= (nth i nums) nums-size)\n",
    "                           (not (= (nth i nums)\n",
    "                                   (1+ i))))\n",
    "             ;; 交换当前位置 i 的元素与 nums[i] - 1 处位置\n",
    "             do (rotatef (nth i nums)\n",
    "                         (nth (1- (nth i nums)) nums))))\n",
    "    (loop for i below nums-size\n",
    "       do (unless (= (1+ i)\n",
    "                     (nth i nums))\n",
    "            (return (1+ i)))\n",
    "       finally (return (1+ nums-size)))))"
   ]
  },
  {
   "cell_type": "markdown",
   "metadata": {},
   "source": [
    "## 42. Trapping Rain Water\n",
    "\n",
    "两边高中间低时，才能装水。\n",
    "\n",
    "1. 从头 lo 和尾 hi 出发，比较这两个值大小，从小的值 min 开始向高的值 max 靠拢，直至第一个比最小值 min 大的位置。\n",
    "2. 循环步骤 1 直至 lo <= hi。"
   ]
  },
  {
   "cell_type": "code",
   "execution_count": null,
   "metadata": {},
   "outputs": [],
   "source": [
    "(defun trap (height)\n",
    "  (let ((lo 0)\n",
    "        (hi (1- (length height)))\n",
    "        (res 0))\n",
    "    (loop while (< lo hi)\n",
    "       do (if (< (nth lo height)\n",
    "                 (nth hi height))\n",
    "              (let ((m (nth lo height))\n",
    "                    (p lo))\n",
    "                (loop while (and (<= (incf lo) hi)\n",
    "                                 (<= (nth lo height)\n",
    "                                     (nth p height)))\n",
    "                   do (incf res (- m (nth lo height)))))\n",
    "              (let ((m (nth hi height))\n",
    "                    (p hi))\n",
    "                (loop while (and (<= lo (decf hi))\n",
    "                                 (<= (nth hi height)\n",
    "                                     (nth p height)))\n",
    "                   do (incf res (- m (nth hi height))))))\n",
    "       finally (return res))))"
   ]
  },
  {
   "cell_type": "markdown",
   "metadata": {},
   "source": [
    "## 43. Multiply Strings\n",
    "\n",
    "这次没什么思路，看网上的图来解题。将结果的每一位用列表来存储，那么 `num1[i] * num2[j]` 的结果为两位，分别保存在 `i+j` 和 `i+j+1` 位。"
   ]
  },
  {
   "cell_type": "code",
   "execution_count": null,
   "metadata": {},
   "outputs": [],
   "source": [
    "(defun multiply (num1 num2)\n",
    "  (if (or (string= \"0\" num1)\n",
    "          (string= \"0\" num2))\n",
    "      (return-from multiply \"0\"))\n",
    "  (let ((product (loop repeat (+ (length num1)\n",
    "                                 (length num2)) collect 0))\n",
    "        ;; parse-integer 只能作用于字符串，digit-char-p 作用于字符\n",
    "        (num1 (reverse (map 'list #'digit-char-p num1)))\n",
    "        (num2 (reverse (map 'list #'digit-char-p num2))))\n",
    "    (loop for i below (length num1)\n",
    "       do (loop for j below (length num2)\n",
    "             do (let ((a (+ i j))\n",
    "                      (b (+ i j 1)))\n",
    "                  (incf (nth a product) (* (nth i num1)\n",
    "                                           (nth j num2)))\n",
    "                  (multiple-value-bind (q r) (floor (nth a product) 10)\n",
    "                    (setf (nth a product) r)\n",
    "                    (incf (nth b product) q))))\n",
    "       finally (return (string-left-trim \"0\"\n",
    "                                         (reverse (format nil \"~{~a~}\" product)))))))"
   ]
  },
  {
   "cell_type": "markdown",
   "metadata": {},
   "source": [
    "## 44. Wildcard Matching"
   ]
  },
  {
   "cell_type": "code",
   "execution_count": null,
   "metadata": {},
   "outputs": [],
   "source": [
    "(defun is-match (s p)\n",
    "  \"s is an input string and p is a pattern\"\n",
    "  (cond\n",
    "    ((string= s p)\n",
    "     t)\n",
    "    ((string= \"\" p)\n",
    "     nil)\n",
    "    ((string= \"\" s)\n",
    "     (if (string= \"*\" (elt p 0))\n",
    "         (is-match s (subseq p 1))\n",
    "         nil))\n",
    "    ((string= (elt p 0) \"*\")\n",
    "     (or (is-match s (subseq p 1))\n",
    "         (is-match (subseq s 1) p)))\n",
    "    ((find (elt p 0) `(,(elt s 0) \"?\") :test #'string=)\n",
    "     (is-match (subseq s 1) (subseq p 1)))\n",
    "    (t\n",
    "     nil)))"
   ]
  },
  {
   "cell_type": "markdown",
   "metadata": {},
   "source": [
    "## 45. Jump Game II\n",
    "\n",
    "使用动态规划，自底向上求解。假设数组长度为 n，step[i] 表示下标为 i 的位置到最后一个元素的步数：\n",
    "\n",
    "$$step[0] = \\min \\limits_{1 \\le i \\le n-2}{(1+step[n-i])}$$"
   ]
  },
  {
   "cell_type": "code",
   "execution_count": null,
   "metadata": {},
   "outputs": [],
   "source": [
    "(defun jump (nums)\n",
    "  (if (< (length nums) 2)\n",
    "      (return-from jump 0))\n",
    "  (let* ((n (length nums))\n",
    "         (step (loop repeat n collect n)))\n",
    "    (setf (nth (1- n) step) 0)\n",
    "    (loop for i from (- n 2) downto 0\n",
    "       do (loop for j from 1 to (nth i nums)\n",
    "             do (when (> (nth i step)\n",
    "                         (+ (nth (+ i j) step) 1))\n",
    "                  (setf (nth i step) (+ (nth (+ i j) step) 1)))))\n",
    "    (first step)))"
   ]
  },
  {
   "cell_type": "markdown",
   "metadata": {},
   "source": [
    "## 46. Permutations\n",
    "\n",
    "全排列"
   ]
  },
  {
   "cell_type": "code",
   "execution_count": null,
   "metadata": {},
   "outputs": [],
   "source": [
    "(defun permuet (nums)\n",
    "  (cond\n",
    "    ((not nums)\n",
    "     nil)\n",
    "    ((= (length nums) 1)\n",
    "     `(,nums))\n",
    "    (t\n",
    "     (loop for n in nums\n",
    "        append (loop for p in (permuet (remove n nums))\n",
    "                  collect (append `(,n) p))))))"
   ]
  },
  {
   "cell_type": "markdown",
   "metadata": {},
   "source": [
    "## 47. Permutations II\n",
    "\n",
    "有重复元素。一种方法是对排列去重。"
   ]
  },
  {
   "cell_type": "code",
   "execution_count": null,
   "metadata": {},
   "outputs": [],
   "source": [
    "(defun permuet-unique (nums)\n",
    "  (cond\n",
    "    ((not nums)\n",
    "     nil)\n",
    "    ((= (length nums) 1)\n",
    "     `(,nums))\n",
    "    (t\n",
    "     (loop for n in (remove-duplicates nums)\n",
    "        append (loop for p in (permuet-unique (remove n nums :count 1))\n",
    "                  collect (append `(,n) p))))))"
   ]
  },
  {
   "cell_type": "markdown",
   "metadata": {},
   "source": [
    "## 48. Rotate Image\n",
    "\n",
    "找规律，将 `[i, j]` 的元素放到 `[j, n-i-1]` 处。难点是找出不重叠的位置进行旋转。"
   ]
  },
  {
   "cell_type": "code",
   "execution_count": null,
   "metadata": {},
   "outputs": [],
   "source": [
    "(defun rotate (matrix)\n",
    "  (let ((n (length matrix)))\n",
    "    (multiple-value-bind (q r) (floor n 2)\n",
    "      (if (zerop r)\n",
    "          (decf q))\n",
    "      (loop for i to q\n",
    "         do (loop for j to (- q r)\n",
    "               do (let ((a i)\n",
    "                        (b j))\n",
    "                    (loop repeat 3\n",
    "                       do (rotatef (nth b (nth a matrix))\n",
    "                                   (nth a (nth (- n b 1) matrix)))\n",
    "                         (rotatef a b)\n",
    "                         (setf a (- n a 1)))))))))"
   ]
  },
  {
   "cell_type": "markdown",
   "metadata": {},
   "source": [
    "## 49. Group Anagrams\n",
    "\n",
    "将字符串散列一下。如果字符有限制，可利用素数进行散列。"
   ]
  },
  {
   "cell_type": "code",
   "execution_count": null,
   "metadata": {},
   "outputs": [],
   "source": [
    "(defun group-anagrams (strs)\n",
    "  (let ((table (make-hash-table)))\n",
    "    (loop for str in strs\n",
    "       do (push str (gethash (sort (copy-seq str) #'char-lessp) table)))\n",
    "    (loop for value being the hash-values of table collect value)))"
   ]
  }
 ],
 "metadata": {
  "kernelspec": {
   "display_name": "SBCL Lisp",
   "language": "lisp",
   "name": "lisp"
  },
  "language_info": {
   "codemirror_mode": "text/x-common-lisp",
   "mimetype": "text/x-common-lisp",
   "name": "common-lisp",
   "pygments_lexer": "common-lisp",
   "version": "X3J13"
  }
 },
 "nbformat": 4,
 "nbformat_minor": 2
}
