{
 "cells": [
  {
   "cell_type": "markdown",
   "metadata": {},
   "source": [
    "## 26. Remove Duplicates from Sorted Array"
   ]
  },
  {
   "cell_type": "code",
   "execution_count": null,
   "metadata": {},
   "outputs": [],
   "source": [
    "(defun removeduplicates (nums)\n",
    "  (length (remove-duplicates nums)))"
   ]
  },
  {
   "cell_type": "markdown",
   "metadata": {},
   "source": [
    "## 27. Remove Element"
   ]
  },
  {
   "cell_type": "code",
   "execution_count": null,
   "metadata": {},
   "outputs": [],
   "source": [
    ";;; 使用 remove 或 delete 都可以做到，但因为不能使用额外的空间，\n",
    ";;; 那么可以有副作用的 delete，但原数组最终结果是未知的，不可行。\n",
    ";;;\n",
    ";;; 使用 car 和 pop，pop 是原地修改，但在函数中却不行。\n",
    ";;;\n",
    ";;; setf 或 rotatef 宏可以做到，最终使用双指针。\n",
    "(defun remove-element (nums val)\n",
    "  (let ((n (length nums))\n",
    "        (i 0))\n",
    "    (loop while (< i n) do\n",
    "         (if (= (nth i nums) val)\n",
    "             (rotatef (nth i nums)\n",
    "                      (nth (decf n) nums))\n",
    "             (incf i)))\n",
    "    n))"
   ]
  },
  {
   "cell_type": "markdown",
   "metadata": {},
   "source": [
    "## 28. Implement strStr()"
   ]
  },
  {
   "cell_type": "code",
   "execution_count": null,
   "metadata": {},
   "outputs": [],
   "source": [
    "(defun strstr (haystack needle)\n",
    "  (let ((needle-size (length needle)))\n",
    "    (loop for i to (- (length haystack)\n",
    "                      needle-size) do\n",
    "         (if (string= (subseq haystack i (+ i needle-size))\n",
    "                      needle)\n",
    "             (return-from strstr i)))\n",
    "    -1))"
   ]
  },
  {
   "cell_type": "markdown",
   "metadata": {},
   "source": [
    "## 29. Divide Two Integers"
   ]
  },
  {
   "cell_type": "code",
   "execution_count": null,
   "metadata": {},
   "outputs": [],
   "source": [
    ";;; 不能用乘、除、求模运算符。\n",
    ";;; 只用加减的话，时间复杂度与商的大小成正比。\n",
    ";;; 但位移可以实现类似乘除的操作。\n",
    "(defun divide (dividend divisor)\n",
    "  (let ((positive (and (> dividend 0)\n",
    "                       (> divisor 0)))\n",
    "        (dividend (abs dividend))\n",
    "        (divisor (abs divisor))\n",
    "        (res 0))\n",
    "    (loop while (> dividend divisor) do\n",
    "         (let ((temp divisor)\n",
    "               (m 1))\n",
    "           (loop while (> dividend temp) do\n",
    "                (decf dividend temp)\n",
    "                (incf res m)\n",
    "                (setf temp (ash temp 1))\n",
    "                (setf m (ash m 1)))))\n",
    "    (if (not positive)\n",
    "        (setf res (- res)))\n",
    "    (min (max res (- (expt 2 31))) (1- (expt 2 31)))))"
   ]
  },
  {
   "cell_type": "markdown",
   "metadata": {},
   "source": [
    "## 30. Substring with Concatenation of All Words"
   ]
  },
  {
   "cell_type": "code",
   "execution_count": null,
   "metadata": {},
   "outputs": [],
   "source": [
    "(defun find-substring (s words)\n",
    "  (let ((word-length (length (car words)))\n",
    "        (words-size (length words))\n",
    "        (hash-table (make-hash-table :test 'equal))\n",
    "        (res))\n",
    "    ;; 使用 hash-table 计算 words 中每个字符串出现的次数\n",
    "    (loop for word in words do\n",
    "         (incf (gethash word hash-table 0)))\n",
    "    (loop for i to (- (length s) (* word-length words-size)) do\n",
    "         (let ((plist)) ; 使用属性表存储子串出现次数\n",
    "           (loop for j below words-size do\n",
    "                (let* ((start (+ i (* j word-length)))\n",
    "                       (end (+ start word-length))\n",
    "                       (substr (subseq s start end))\n",
    "                       (key (intern substr \"KEYWORD\")))\n",
    "                  (if (< (getf plist key 0)\n",
    "                         (gethash substr hash-table -1))\n",
    "                      (incf (getf plist key 0))\n",
    "                      (return)))\n",
    "              finally (push i res))))\n",
    "    res))"
   ]
  },
  {
   "cell_type": "code",
   "execution_count": null,
   "metadata": {},
   "outputs": [],
   "source": []
  }
 ],
 "metadata": {
  "kernelspec": {
   "display_name": "SBCL Lisp",
   "language": "lisp",
   "name": "lisp"
  },
  "language_info": {
   "codemirror_mode": "text/x-common-lisp",
   "mimetype": "text/x-common-lisp",
   "name": "common-lisp",
   "pygments_lexer": "common-lisp",
   "version": "X3J13"
  }
 },
 "nbformat": 4,
 "nbformat_minor": 2
}
