{
 "cells": [
  {
   "cell_type": "markdown",
   "metadata": {},
   "source": [
    "## 76. Minimum Window Substring\n",
    "\n",
    "mark。"
   ]
  },
  {
   "cell_type": "code",
   "execution_count": null,
   "metadata": {},
   "outputs": [],
   "source": [
    "(defun min-window (s tt)\n",
    "  (let ((table (make-hash-table))\n",
    "        (start 0)\n",
    "        (end 0)\n",
    "        (missing (length tt)))\n",
    "    (loop for c across tt\n",
    "       do (incf (gethash c table 0)))\n",
    "    (loop for c across s\n",
    "       for j from 1 to (1+ (length s))\n",
    "       with i = 0\n",
    "       do (if (plusp (gethash c table 0))\n",
    "              (decf missing))\n",
    "         (decf (gethash c table 0))\n",
    "         (loop while (zerop missing)\n",
    "            do (incf (gethash (elt s i) table))\n",
    "              (when (plusp (gethash (elt s i) table))\n",
    "                (incf missing)\n",
    "                (if (or (zerop end)\n",
    "                        (> (- end start) (- j i)))\n",
    "                    (setf start i end j)))\n",
    "              (incf i))\n",
    "       finally (return (list start end)))))"
   ]
  },
  {
   "cell_type": "markdown",
   "metadata": {},
   "source": [
    "## 77. Combinations"
   ]
  },
  {
   "cell_type": "code",
   "execution_count": null,
   "metadata": {},
   "outputs": [],
   "source": [
    "(defun combine (n k)\n",
    "  (loop repeat k\n",
    "     with res = '(nil)\n",
    "     do (setf res (loop for set in res\n",
    "                     append (loop for i from (if (last set)\n",
    "                                                 (1+ (car (last set)))\n",
    "                                                 1) to n\n",
    "                                 collect (append set `(,i)))))\n",
    "     finally (return res)))"
   ]
  },
  {
   "cell_type": "markdown",
   "metadata": {},
   "source": [
    "## 78. Subsets"
   ]
  },
  {
   "cell_type": "code",
   "execution_count": null,
   "metadata": {},
   "outputs": [],
   "source": [
    "(defun subsets (nums)\n",
    "  (loop for num in nums\n",
    "     with res = '(nil)\n",
    "     do (nconc res (loop for set in res\n",
    "                      collect (append set `(,num))))\n",
    "     finally (return res)))"
   ]
  },
  {
   "cell_type": "markdown",
   "metadata": {},
   "source": [
    "## 79. Word Search"
   ]
  },
  {
   "cell_type": "code",
   "execution_count": null,
   "metadata": {},
   "outputs": [],
   "source": [
    "(defun exist (board word)\n",
    "  (loop for i below (length board)\n",
    "     do (loop for j below (length (first board))\n",
    "           do (if (dfs i j board word)\n",
    "                  (return-from exist t)))\n",
    "     finally (return nil)))\n",
    "\n",
    "\n",
    "(defun dfs (i j board word)\n",
    "  (cond\n",
    "    ((string= word \"\")\n",
    "     t)\n",
    "    ((or (minusp i)\n",
    "         (minusp j)\n",
    "         (= i (length board))\n",
    "         (= j (length (first board)))\n",
    "         (not (string= (nth j (nth i board)) (elt word 0))))\n",
    "     nil)\n",
    "    (t\n",
    "     (let ((tmp (nth j (nth i board)))\n",
    "           (word (subseq word 1))\n",
    "           (exist))\n",
    "       (setf (nth j (nth i board)) \"\"\n",
    "             exist (or (dfs (1+ i) j board word)\n",
    "                       (dfs (1- i) j board word)\n",
    "                       (dfs i (1+ j) board word)\n",
    "                       (dfs i (1- j) board word))\n",
    "             (nth j (nth i board)) tmp)\n",
    "       exist))))"
   ]
  },
  {
   "cell_type": "markdown",
   "metadata": {},
   "source": [
    "## 80. Remove Duplicates from Sorted Array II"
   ]
  },
  {
   "cell_type": "code",
   "execution_count": null,
   "metadata": {},
   "outputs": [],
   "source": [
    "(defun my-remove-duplicates (nums)\n",
    "  (loop for n in nums\n",
    "     with i = 0\n",
    "     do (if (or (< i 2)\n",
    "                (not (= n (nth (- i 2) nums))))\n",
    "            (setf (nth i nums) n i (1+ i)))\n",
    "     finally (return i)))"
   ]
  },
  {
   "cell_type": "markdown",
   "metadata": {},
   "source": [
    "## 81. Search in Rotated Sorted Array II"
   ]
  },
  {
   "cell_type": "code",
   "execution_count": null,
   "metadata": {},
   "outputs": [],
   "source": [
    "(defun my-search (nums target)\n",
    "  (let* ((lo 0)\n",
    "         (hi (1- (length nums)))\n",
    "         (mid))\n",
    "    (loop while (<= lo hi)\n",
    "       do (setf mid (floor (+ lo (/ (- hi lo) 2))))\n",
    "         (if (= target (nth mid nums))\n",
    "             (return t))\n",
    "         (loop while (and (< lo mid)\n",
    "                          (= (nth lo nums) (nth mid nums)))\n",
    "            do (incf lo))\n",
    "         (cond\n",
    "           ((<= (nth lo nums) (nth mid nums))\n",
    "            (if (and (<= (nth lo nums) target)\n",
    "                     (< target (nth mid nums)))\n",
    "                (setf hi (1- mid))\n",
    "                (setf lo (1+ mid))))\n",
    "           ((and (< (nth lo nums) target)\n",
    "                 (<= target (nth hi nums)))\n",
    "            (setf lo (1+ mid)))\n",
    "           (t\n",
    "            (setf hi (1- mid)))))))"
   ]
  },
  {
   "cell_type": "markdown",
   "metadata": {},
   "source": [
    "## 82. Remove Duplicates from Sorted List II"
   ]
  },
  {
   "cell_type": "code",
   "execution_count": null,
   "metadata": {},
   "outputs": [],
   "source": [
    "(defun my-delete-duplicates (head)\n",
    "  (loop for i below (length head)\n",
    "     for val in head\n",
    "     with duplicate\n",
    "     with res\n",
    "     do (if (or (equal val duplicate)\n",
    "                (and (< i (length head))\n",
    "                     (= val (nth (1+ i) head))))\n",
    "            (setf duplicate val)\n",
    "            (push val res))\n",
    "     finally (return (reverse res))))"
   ]
  },
  {
   "cell_type": "markdown",
   "metadata": {},
   "source": [
    "## 83. Remove Duplicates from Sorted List"
   ]
  },
  {
   "cell_type": "code",
   "execution_count": null,
   "metadata": {},
   "outputs": [],
   "source": [
    "(defun my-delete-duplicates (head)\n",
    "  (loop for e in head\n",
    "     with prev\n",
    "     with res\n",
    "     do (unless (equal prev e)\n",
    "          (push e res)\n",
    "          (setf prev e))\n",
    "     finally (return (reverse res))))"
   ]
  },
  {
   "cell_type": "markdown",
   "metadata": {},
   "source": [
    "## 84. Largest Rectangle in Histogram"
   ]
  },
  {
   "cell_type": "code",
   "execution_count": null,
   "metadata": {},
   "outputs": [],
   "source": [
    "(defun largest-rectangle-area (heights)\n",
    "  (let* ((heights (append heights '(0)))\n",
    "         (length (length heights))\n",
    "         (stack `(,(1- length)))\n",
    "         (largest 0))\n",
    "    (loop for i below length\n",
    "       with h\n",
    "       with start\n",
    "       do (loop while (< (nth i heights)\n",
    "                         (nth (first stack) heights))\n",
    "             do (setf h (nth (pop stack) heights))\n",
    "               (if (= (first stack) (1- length))\n",
    "                   (setf start -1)\n",
    "                   (setf start (first stack)))\n",
    "               (setf largest (max largest\n",
    "                                  (* h (- i start 1)))))\n",
    "         (push i stack)\n",
    "       finally (return largest))))"
   ]
  },
  {
   "cell_type": "markdown",
   "metadata": {},
   "source": [
    "## 85. Maximal Rectangle"
   ]
  },
  {
   "cell_type": "code",
   "execution_count": null,
   "metadata": {},
   "outputs": [],
   "source": [
    "(defun maximal-rectangle (matrix)\n",
    "  (let* ((size (length (first matrix)))\n",
    "         (heights (loop repeat (1+ size) collect 0)))\n",
    "    (loop for row in matrix\n",
    "       with res = 0\n",
    "       do (loop for i to size\n",
    "             do (if (string= \"1\" (nth i row))\n",
    "                    (incf (nth i heights))\n",
    "                    (setf (nth i heights) 0)))\n",
    "         (loop for i to size\n",
    "            with stack = `(,size)\n",
    "            with h\n",
    "            with w\n",
    "            do (loop while (< (nth i heights)\n",
    "                              (nth (first stack) heights))\n",
    "                  do (setf h (nth (pop stack) heights))\n",
    "                    (setf w (- i 1 (if (= (first stack) size)\n",
    "                                       -1\n",
    "                                       (first stack))))\n",
    "                    (setf res (max res (* h w))))\n",
    "              (push i stack))\n",
    "       finally (return res))))"
   ]
  },
  {
   "cell_type": "markdown",
   "metadata": {},
   "source": [
    "## 86. Partition List"
   ]
  },
  {
   "cell_type": "code",
   "execution_count": null,
   "metadata": {},
   "outputs": [],
   "source": [
    "(defun partition (head x)\n",
    "  (loop for n in head\n",
    "     with small\n",
    "     with large\n",
    "     do (if (< n x)\n",
    "            (push n small)\n",
    "            (push n large))\n",
    "     finally (return (append (reverse small)\n",
    "                             (reverse large)))))"
   ]
  },
  {
   "cell_type": "markdown",
   "metadata": {},
   "source": [
    "## 87. Scramble String"
   ]
  },
  {
   "cell_type": "code",
   "execution_count": null,
   "metadata": {},
   "outputs": [],
   "source": [
    "(defun is-scramble (s1 s2)\n",
    "  (let ((n (length s1)))\n",
    "    (cond\n",
    "      ((not (string= (sort (copy-seq s1) #'string<)\n",
    "                     (sort (copy-seq s2) #'string<)))\n",
    "       nil)\n",
    "      ((or (< n 4)\n",
    "           (string= s1 s2))\n",
    "       t)\n",
    "      (t\n",
    "       (loop for i from 1 below n\n",
    "          do (if (or (and (is-scramble (subseq s1 0 i)\n",
    "                                       (subseq s2 0 i))\n",
    "                          (is-scramble (subseq s1 i)\n",
    "                                       (subseq s2 i)))\n",
    "                     (and (is-scramble (subseq s1 0 i)\n",
    "                                       (subseq s2 (- n i)))\n",
    "                          (is-scramble (subseq s1 i)\n",
    "                                       (subseq s2 0 (- n i)))))\n",
    "                 (return t)))))))"
   ]
  },
  {
   "cell_type": "markdown",
   "metadata": {},
   "source": [
    "## 88. Merge Sorted Array"
   ]
  },
  {
   "cell_type": "code",
   "execution_count": null,
   "metadata": {},
   "outputs": [],
   "source": [
    "(defun merge-88 (nums1 m nums2 n)\n",
    "  (loop while (and (plusp m)\n",
    "                   (plusp n))\n",
    "     do (if (>= (nth (1- m) nums1)\n",
    "                (nth (1- n) nums2))\n",
    "            ;; setf 从左到右运算，先执行 decf 操作\n",
    "            (setf (nth (+ (decf m) n) nums1) (nth m nums1))\n",
    "            (setf (nth (+ m (decf n)) nums1) (nth n nums2)))\n",
    "     finally (when (plusp n)\n",
    "               ;; 自动忽略 nums2 中多余的部分\n",
    "               (setf (subseq nums1 0 n) nums2))))"
   ]
  },
  {
   "cell_type": "markdown",
   "metadata": {},
   "source": [
    "## 89. Gray Code"
   ]
  },
  {
   "cell_type": "code",
   "execution_count": null,
   "metadata": {},
   "outputs": [],
   "source": [
    "(defun gray-code (n)\n",
    "  (loop for i below n\n",
    "     with res = '(0)\n",
    "     do (loop for element in res\n",
    "           with base = (ash 1 i) ; (expt 2 i)\n",
    "           do (push (logior element base) res))\n",
    "     finally (return (reverse res))))"
   ]
  },
  {
   "cell_type": "markdown",
   "metadata": {},
   "source": [
    "## 90. Subsets II\n",
    "\n",
    "用了额外的空间，还有不需要额外空间的解法。"
   ]
  },
  {
   "cell_type": "code",
   "execution_count": null,
   "metadata": {},
   "outputs": [],
   "source": [
    "(defun subsets-with-dup (nums)\n",
    "  (let ((nums (sort (copy-seq nums) #'<))\n",
    "        (res '(())))\n",
    "    (loop for n in nums\n",
    "       with prev = '(nil)\n",
    "       with l\n",
    "       do (setf l (length prev))\n",
    "         (loop for r in res\n",
    "            do (if (or (not (equal n (first prev)))\n",
    "                       (and r\n",
    "                            (>= (length r) l)\n",
    "                            (equal (subseq r 0 l) prev)))\n",
    "                   (push (append r `(,n)) res)))\n",
    "         (if (equal n (first prev))\n",
    "             (push n prev)\n",
    "             (setf prev `(,n)))\n",
    "       finally (return res))))"
   ]
  }
 ],
 "metadata": {
  "kernelspec": {
   "display_name": "SBCL Lisp",
   "language": "lisp",
   "name": "lisp"
  },
  "language_info": {
   "codemirror_mode": "text/x-common-lisp",
   "mimetype": "text/x-common-lisp",
   "name": "common-lisp",
   "pygments_lexer": "common-lisp",
   "version": "X3J13"
  }
 },
 "nbformat": 4,
 "nbformat_minor": 2
}
