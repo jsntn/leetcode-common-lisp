{
 "cells": [
  {
   "cell_type": "markdown",
   "metadata": {},
   "source": [
    "## 76. Minimum Window Substring\n",
    "\n",
    "mark。"
   ]
  },
  {
   "cell_type": "code",
   "execution_count": null,
   "metadata": {},
   "outputs": [],
   "source": [
    "(defun min-window (s tt)\n",
    "  (let ((table (make-hash-table))\n",
    "        (start 0)\n",
    "        (end 0)\n",
    "        (missing (length tt)))\n",
    "    (loop for c across tt\n",
    "       do (incf (gethash c table 0)))\n",
    "    (loop for c across s\n",
    "       for j from 1 to (1+ (length s))\n",
    "       with i = 0\n",
    "       do (if (plusp (gethash c table 0))\n",
    "              (decf missing))\n",
    "         (decf (gethash c table 0))\n",
    "         (loop while (zerop missing)\n",
    "            do (incf (gethash (elt s i) table))\n",
    "              (when (plusp (gethash (elt s i) table))\n",
    "                (incf missing)\n",
    "                (if (or (zerop end)\n",
    "                        (> (- end start) (- j i)))\n",
    "                    (setf start i end j)))\n",
    "              (incf i))\n",
    "       finally (return (list start end)))))"
   ]
  },
  {
   "cell_type": "markdown",
   "metadata": {},
   "source": [
    "## 77. Combinations"
   ]
  },
  {
   "cell_type": "code",
   "execution_count": null,
   "metadata": {},
   "outputs": [],
   "source": [
    "(defun combine (n k)\n",
    "  (loop repeat k\n",
    "     with res = '(nil)\n",
    "     do (setf res (loop for set in res\n",
    "                     append (loop for i from (if (last set)\n",
    "                                                 (1+ (car (last set)))\n",
    "                                                 1) to n\n",
    "                                 collect (append set `(,i)))))\n",
    "     finally (return res)))"
   ]
  },
  {
   "cell_type": "markdown",
   "metadata": {},
   "source": [
    "## 78. Subsets"
   ]
  },
  {
   "cell_type": "code",
   "execution_count": null,
   "metadata": {},
   "outputs": [],
   "source": [
    "(defun subsets (nums)\n",
    "  (loop for num in nums\n",
    "     with res = '(nil)\n",
    "     do (nconc res (loop for set in res\n",
    "                      collect (append set `(,num))))\n",
    "     finally (return res)))"
   ]
  },
  {
   "cell_type": "markdown",
   "metadata": {},
   "source": [
    "## 79. Word Search"
   ]
  },
  {
   "cell_type": "code",
   "execution_count": null,
   "metadata": {},
   "outputs": [],
   "source": [
    "(defun exist (board word)\n",
    "  (loop for i below (length board)\n",
    "     do (loop for j below (length (first board))\n",
    "           do (if (dfs i j board word)\n",
    "                  (return-from exist t)))\n",
    "     finally (return nil)))\n",
    "\n",
    "\n",
    "(defun dfs (i j board word)\n",
    "  (cond\n",
    "    ((string= word \"\")\n",
    "     t)\n",
    "    ((or (minusp i)\n",
    "         (minusp j)\n",
    "         (= i (length board))\n",
    "         (= j (length (first board)))\n",
    "         (not (string= (nth j (nth i board)) (elt word 0))))\n",
    "     nil)\n",
    "    (t\n",
    "     (let ((tmp (nth j (nth i board)))\n",
    "           (word (subseq word 1))\n",
    "           (exist))\n",
    "       (setf (nth j (nth i board)) \"\"\n",
    "             exist (or (dfs (1+ i) j board word)\n",
    "                       (dfs (1- i) j board word)\n",
    "                       (dfs i (1+ j) board word)\n",
    "                       (dfs i (1- j) board word))\n",
    "             (nth j (nth i board)) tmp)\n",
    "       exist))))"
   ]
  },
  {
   "cell_type": "markdown",
   "metadata": {},
   "source": [
    "## 80. Remove Duplicates from Sorted Array II"
   ]
  },
  {
   "cell_type": "code",
   "execution_count": null,
   "metadata": {},
   "outputs": [],
   "source": [
    "(defun my-remove-duplicates (nums)\n",
    "  (loop for n in nums\n",
    "     with i = 0\n",
    "     do (if (or (< i 2)\n",
    "                (not (= n (nth (- i 2) nums))))\n",
    "            (setf (nth i nums) n i (1+ i)))\n",
    "     finally (return i)))"
   ]
  },
  {
   "cell_type": "markdown",
   "metadata": {},
   "source": [
    "## 81. Search in Rotated Sorted Array II"
   ]
  },
  {
   "cell_type": "code",
   "execution_count": null,
   "metadata": {},
   "outputs": [],
   "source": [
    "(defun my-search (nums target)\n",
    "  (let* ((lo 0)\n",
    "         (hi (1- (length nums)))\n",
    "         (mid))\n",
    "    (loop while (<= lo hi)\n",
    "       do (setf mid (floor (+ lo (/ (- hi lo) 2))))\n",
    "         (if (= target (nth mid nums))\n",
    "             (return t))\n",
    "         (loop while (and (< lo mid)\n",
    "                          (= (nth lo nums) (nth mid nums)))\n",
    "            do (incf lo))\n",
    "         (cond\n",
    "           ((<= (nth lo nums) (nth mid nums))\n",
    "            (if (and (<= (nth lo nums) target)\n",
    "                     (< target (nth mid nums)))\n",
    "                (setf hi (1- mid))\n",
    "                (setf lo (1+ mid))))\n",
    "           ((and (< (nth lo nums) target)\n",
    "                 (<= target (nth hi nums)))\n",
    "            (setf lo (1+ mid)))\n",
    "           (t\n",
    "            (setf hi (1- mid)))))))"
   ]
  },
  {
   "cell_type": "markdown",
   "metadata": {},
   "source": [
    "## 82. Remove Duplicates from Sorted List II"
   ]
  },
  {
   "cell_type": "code",
   "execution_count": null,
   "metadata": {},
   "outputs": [],
   "source": [
    "(defun my-delete-duplicates (head)\n",
    "  (loop for i below (length head)\n",
    "     for val in head\n",
    "     with duplicate\n",
    "     with res\n",
    "     do (if (or (equal val duplicate)\n",
    "                (and (< i (length head))\n",
    "                     (= val (nth (1+ i) head))))\n",
    "            (setf duplicate val)\n",
    "            (push val res))\n",
    "     finally (return (reverse res))))"
   ]
  }
 ],
 "metadata": {
  "kernelspec": {
   "display_name": "SBCL Lisp",
   "language": "lisp",
   "name": "lisp"
  },
  "language_info": {
   "codemirror_mode": "text/x-common-lisp",
   "mimetype": "text/x-common-lisp",
   "name": "common-lisp",
   "pygments_lexer": "common-lisp",
   "version": "X3J13"
  }
 },
 "nbformat": 4,
 "nbformat_minor": 2
}
