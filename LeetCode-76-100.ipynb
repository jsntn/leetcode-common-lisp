{
 "cells": [
  {
   "cell_type": "markdown",
   "metadata": {},
   "source": [
    "## 76. Minimum Window Substring\n",
    "\n",
    "mark。"
   ]
  },
  {
   "cell_type": "code",
   "execution_count": null,
   "metadata": {},
   "outputs": [],
   "source": [
    "(defun min-window (s tt)\n",
    "  (let ((table (make-hash-table))\n",
    "        (start 0)\n",
    "        (end 0)\n",
    "        (missing (length tt)))\n",
    "    (loop for c across tt\n",
    "       do (incf (gethash c table 0)))\n",
    "    (loop for c across s\n",
    "       for j from 1 to (1+ (length s))\n",
    "       with i = 0\n",
    "       do (if (plusp (gethash c table 0))\n",
    "              (decf missing))\n",
    "         (decf (gethash c table 0))\n",
    "         (loop while (zerop missing)\n",
    "            do (incf (gethash (elt s i) table))\n",
    "              (when (plusp (gethash (elt s i) table))\n",
    "                (incf missing)\n",
    "                (if (or (zerop end)\n",
    "                        (> (- end start) (- j i)))\n",
    "                    (setf start i end j)))\n",
    "              (incf i))\n",
    "       finally (return (list start end)))))"
   ]
  },
  {
   "cell_type": "markdown",
   "metadata": {},
   "source": [
    "## 77. Combinations"
   ]
  },
  {
   "cell_type": "code",
   "execution_count": null,
   "metadata": {},
   "outputs": [],
   "source": [
    "(defun combine (n k)\n",
    "  (loop repeat k\n",
    "     with res = '(nil)\n",
    "     do (setf res (loop for set in res\n",
    "                     append (loop for i from (if (last set)\n",
    "                                                 (1+ (car (last set)))\n",
    "                                                 1) to n\n",
    "                                 collect (append set `(,i)))))\n",
    "     finally (return res)))"
   ]
  }
 ],
 "metadata": {
  "kernelspec": {
   "display_name": "SBCL Lisp",
   "language": "lisp",
   "name": "lisp"
  },
  "language_info": {
   "codemirror_mode": "text/x-common-lisp",
   "mimetype": "text/x-common-lisp",
   "name": "common-lisp",
   "pygments_lexer": "common-lisp",
   "version": "X3J13"
  }
 },
 "nbformat": 4,
 "nbformat_minor": 2
}
