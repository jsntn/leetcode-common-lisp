{
 "cells": [
  {
   "cell_type": "markdown",
   "metadata": {},
   "source": [
    "## 51. N-Queens\n",
    "\n",
    "回溯法"
   ]
  },
  {
   "cell_type": "code",
   "execution_count": null,
   "metadata": {},
   "outputs": [],
   "source": [
    "(defun solve-n-queens (n)\n",
    "  (let ((solutions))\n",
    "    (loop for col below n\n",
    "       do (loop for item in (find-solution 0 n `(,col))\n",
    "             do  (let ((solution (loop repeat n\n",
    "                                    collect (loop repeat n\n",
    "                                               collect \".\"))))\n",
    "                   (loop for col in item\n",
    "                      for row below (1- n)\n",
    "                      do (setf (nth col (nth row solution)) \"Q\")\n",
    "                      finally (push solution solutions))))\n",
    "       finally (return solutions))))\n",
    "\n",
    "(defun next-positions (n &optional placed)\n",
    "  \"对已顺序放置 placed 的 n 皇后问题，返回下一行可能的放置位置\"\n",
    "  (set-difference (loop for i below n collect i)\n",
    "                  (loop for col in placed\n",
    "                     for i from (length placed) downto 1\n",
    "                     append `(,(- col i) ,col ,(+ col i)))))\n",
    "\n",
    "(defun find-solution (row n &optional placed)\n",
    "  \"placed 是已放置的皇后，第 i 个元素表示 i 行 placed[i] 列放置了皇后，\n",
    "   row 是当前行，placed[row] == placed[-1]。\n",
    "   对于前面行已放置元素为 placed（长度为 row+1）的 n 皇后问题，找出所有解\"\n",
    "  (cond\n",
    "    ((= row (- n 1))\n",
    "     `(,placed))\n",
    "    (t\n",
    "     (loop for p in (next-positions n placed)\n",
    "        append (find-solution\n",
    "                (1+ row) n (append placed `(,p)))))))"
   ]
  },
  {
   "cell_type": "markdown",
   "metadata": {},
   "source": [
    "## 52. N-Queens II"
   ]
  },
  {
   "cell_type": "code",
   "execution_count": null,
   "metadata": {},
   "outputs": [],
   "source": [
    "(defun total-n-queens (n)\n",
    "  (length\n",
    "    (loop for col below n\n",
    "       append (loop for item in (find-solution 0 n `(,col))\n",
    "             collect item))))\n",
    "\n",
    "(defun next-positions (n &optional placed)\n",
    "  \"对已顺序放置 placed 的 n 皇后问题，返回下一行可能的放置位置\"\n",
    "  (set-difference (loop for i below n collect i)\n",
    "                  (loop for col in placed\n",
    "                     for i from (length placed) downto 1\n",
    "                     append `(,(- col i) ,col ,(+ col i)))))\n",
    "\n",
    "(defun find-solution (row n &optional placed)\n",
    "  \"placed 是已放置的皇后，第 i 个元素表示 i 行 placed[i] 列放置了皇后，\n",
    "   row 是当前行，placed[row] == placed[-1]。\n",
    "   对于前面行已放置元素为 placed（长度为 row+1）的 n 皇后问题，找出所有解\"\n",
    "  (cond\n",
    "    ((= row (- n 1))\n",
    "     `(,placed))\n",
    "    (t\n",
    "     (loop for p in (next-positions n placed)\n",
    "        append (find-solution\n",
    "                (1+ row) n (append placed `(,p)))))))"
   ]
  }
 ],
 "metadata": {
  "kernelspec": {
   "display_name": "SBCL Lisp",
   "language": "lisp",
   "name": "lisp"
  },
  "language_info": {
   "codemirror_mode": "text/x-common-lisp",
   "mimetype": "text/x-common-lisp",
   "name": "common-lisp",
   "pygments_lexer": "common-lisp",
   "version": "X3J13"
  }
 },
 "nbformat": 4,
 "nbformat_minor": 2
}
