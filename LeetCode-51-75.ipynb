{
 "cells": [
  {
   "cell_type": "markdown",
   "metadata": {},
   "source": [
    "## 51. N-Queens\n",
    "\n",
    "回溯法"
   ]
  },
  {
   "cell_type": "code",
   "execution_count": null,
   "metadata": {},
   "outputs": [],
   "source": [
    "(defun solve-n-queens (n)\n",
    "  (let ((solutions))\n",
    "    (loop for col below n\n",
    "       do (loop for item in (find-solution 0 n `(,col))\n",
    "             do  (let ((solution (loop repeat n\n",
    "                                    collect (loop repeat n\n",
    "                                               collect \".\"))))\n",
    "                   (loop for col in item\n",
    "                      for row below (1- n)\n",
    "                      do (setf (nth col (nth row solution)) \"Q\")\n",
    "                      finally (push solution solutions))))\n",
    "       finally (return solutions))))\n",
    "\n",
    "(defun next-positions (n &optional placed)\n",
    "  \"对已顺序放置 placed 的 n 皇后问题，返回下一行可能的放置位置\"\n",
    "  (set-difference (loop for i below n collect i)\n",
    "                  (loop for col in placed\n",
    "                     for i from (length placed) downto 1\n",
    "                     append `(,(- col i) ,col ,(+ col i)))))\n",
    "\n",
    "(defun find-solution (row n &optional placed)\n",
    "  \"placed 是已放置的皇后，第 i 个元素表示 i 行 placed[i] 列放置了皇后，\n",
    "   row 是当前行，placed[row] == placed[-1]。\n",
    "   对于前面行已放置元素为 placed（长度为 row+1）的 n 皇后问题，找出所有解\"\n",
    "  (cond\n",
    "    ((= row (- n 1))\n",
    "     `(,placed))\n",
    "    (t\n",
    "     (loop for p in (next-positions n placed)\n",
    "        append (find-solution\n",
    "                (1+ row) n (append placed `(,p)))))))"
   ]
  },
  {
   "cell_type": "markdown",
   "metadata": {},
   "source": [
    "## 52. N-Queens II"
   ]
  },
  {
   "cell_type": "code",
   "execution_count": null,
   "metadata": {},
   "outputs": [],
   "source": [
    "(defun total-n-queens (n)\n",
    "  (length\n",
    "    (loop for col below n\n",
    "       append (loop for item in (find-solution 0 n `(,col))\n",
    "             collect item))))\n",
    "\n",
    "(defun next-positions (n &optional placed)\n",
    "  \"对已顺序放置 placed 的 n 皇后问题，返回下一行可能的放置位置\"\n",
    "  (set-difference (loop for i below n collect i)\n",
    "                  (loop for col in placed\n",
    "                     for i from (length placed) downto 1\n",
    "                     append `(,(- col i) ,col ,(+ col i)))))\n",
    "\n",
    "(defun find-solution (row n &optional placed)\n",
    "  \"placed 是已放置的皇后，第 i 个元素表示 i 行 placed[i] 列放置了皇后，\n",
    "   row 是当前行，placed[row] == placed[-1]。\n",
    "   对于前面行已放置元素为 placed（长度为 row+1）的 n 皇后问题，找出所有解\"\n",
    "  (cond\n",
    "    ((= row (- n 1))\n",
    "     `(,placed))\n",
    "    (t\n",
    "     (loop for p in (next-positions n placed)\n",
    "        append (find-solution\n",
    "                (1+ row) n (append placed `(,p)))))))"
   ]
  },
  {
   "cell_type": "markdown",
   "metadata": {},
   "source": [
    "## 53. Maximum Subarray"
   ]
  },
  {
   "cell_type": "code",
   "execution_count": null,
   "metadata": {},
   "outputs": [],
   "source": [
    "(defun max-sub-array (nums)\n",
    "  (let* ((lo 0)\n",
    "         (hi (1- (length nums)))\n",
    "         (sum (apply #'+ nums))\n",
    "         (max sum))\n",
    "    (if (> (apply #'max nums) max)\n",
    "        (setf max (apply #'max nums)))\n",
    "    (loop while (< lo hi)\n",
    "       do (let* ((n-lo (next nums lo 1))\n",
    "                 (sum1 (apply #'+ (subseq nums lo (1+ n-lo))))\n",
    "                 (n-hi (next nums hi -1))\n",
    "                 (sum2 (apply #'+ (subseq nums n-hi (1+ hi)))))\n",
    "            (if (< sum1 sum2)\n",
    "                (setf lo (1+ n-lo) sum (- sum sum1))\n",
    "                (setf hi (1- n-hi) sum (- sum sum2)))\n",
    "            (if (> sum max)\n",
    "                (setf max sum)))\n",
    "       finally (return max))))\n",
    "\n",
    "(defun next (nums start step)\n",
    "  \"获取从 start 位置开始，第一个负数开始的连续负数序列中的最后一个的位置\"\n",
    "  (loop while (< -1 start (length nums))\n",
    "     do (if (>= (nth start nums) 0)\n",
    "            (incf start step)\n",
    "            (return (loop while (and (< 0 (+ start step) (length nums))\n",
    "                                     (< (nth (incf start step) nums) 0))\n",
    "                       finally (return (- start step)))))\n",
    "     finally (return (- start step))))\n",
    "\n",
    ";;; Another amazing way\n",
    ";;; https://leetcode.com/problems/maximum-subarray/discuss/20396/Easy-Python-Way\n",
    "(defun max-sub-array (nums)\n",
    "  (loop for i from 1 below (length nums)\n",
    "     do (if (plusp (nth (1- i) nums))\n",
    "            (incf (nth i nums) (nth (1- i) nums)))\n",
    "     finally (return (apply #'max nums))))"
   ]
  },
  {
   "cell_type": "markdown",
   "metadata": {},
   "source": [
    "## 54. Spiral Matrix\n",
    "\n",
    "找规律。\n",
    "\n",
    "假设开始点为 (x, y)，结束点为 (m, n)。\n",
    "\n",
    "1. 向右：(x, y) -> (x, n)\n",
    "2. 向下：(x+1, n) -> (m, n)\n",
    "3. 向左：(m, n) -> (m, y)\n",
    "4. 向上：(m, y) -> (x+1, y)\n",
    "5. 汇聚值，x、y 加一，m、n 减一，重复步骤 1-5"
   ]
  },
  {
   "cell_type": "code",
   "execution_count": null,
   "metadata": {},
   "outputs": [],
   "source": [
    "(defun spiral-order (matrix)\n",
    "  (let ((m (1- (length matrix)))\n",
    "        (n (1- (length (first matrix))))\n",
    "        (x 0)\n",
    "        (y 0))\n",
    "    (loop while (and (<= x m)\n",
    "                     (<= y n))\n",
    "       append (append (loop for i from y to n\n",
    "                         collect (nth i (nth x matrix)))\n",
    "                      (loop for i from (1+ x) to m\n",
    "                         collect (nth n (nth i matrix)))\n",
    "                      (loop for i from (decf n) downto y\n",
    "                         when (> m x)\n",
    "                         collect (nth i (nth m matrix)))\n",
    "                      (loop for i from (decf m) above x\n",
    "                         collect (nth y (nth i matrix))))\n",
    "       do (incf x)\n",
    "         (incf y))))"
   ]
  },
  {
   "cell_type": "markdown",
   "metadata": {},
   "source": [
    "## 55. Jump Game\n",
    "\n",
    "跟之前做过的一道题类似，用表存储某个位置是否能到达最后。\n",
    "\n",
    "$$canjump(0) = {\\exists} \\text{canjump(i)}, {i \\le nums[0]} $$"
   ]
  },
  {
   "cell_type": "code",
   "execution_count": null,
   "metadata": {},
   "outputs": [],
   "source": [
    "(defun can-jump (nums)\n",
    "  (if (null nums) (return-from can-jump nil))\n",
    "  (let* ((n (length nums))\n",
    "         (table (loop repeat n collect nil)))\n",
    "    (setf (nth (1- n) table) t)\n",
    "    (loop for i from (- n 2) downto 0\n",
    "       do (loop for j from 1 to (nth i nums)\n",
    "             when (and (< (+ i j) n)\n",
    "                       (nth (+ i j) table))\n",
    "             do (return (setf (nth i table) t))))\n",
    "    (first table)))"
   ]
  },
  {
   "cell_type": "markdown",
   "metadata": {},
   "source": [
    "## 56. Merge Intervals"
   ]
  },
  {
   "cell_type": "code",
   "execution_count": null,
   "metadata": {},
   "outputs": [],
   "source": [
    "(defun merge-i (intervals)\n",
    "  (let* ((intervals (sort intervals #'(lambda (a b) (< (first a)\n",
    "                                                       (first b)))))\n",
    "         (res `(,(car intervals)))\n",
    "         (intervals (cdr intervals)))\n",
    "    (loop for interval in intervals\n",
    "       do (if (>= (second (car (last res)))\n",
    "                  (first interval))\n",
    "              (setf (second (car (last res))) \n",
    "                    (max (second (first intervals))\n",
    "                         (second (car (last res)))))\n",
    "              (push interval (cdr (last res))))\n",
    "       finally (return res))))"
   ]
  },
  {
   "cell_type": "markdown",
   "metadata": {},
   "source": [
    "## 57. Insert Interval"
   ]
  },
  {
   "cell_type": "code",
   "execution_count": null,
   "metadata": {},
   "outputs": [],
   "source": [
    "(defun insert-i (intervals new-interval)\n",
    "  (let ((res `(nil)))\n",
    "    (if (null intervals)\n",
    "        (return-from insert-i `(,new-interval)))\n",
    "    (loop for interval in intervals\n",
    "       do (cond\n",
    "            (new-interval\n",
    "             (if (>= (second interval)\n",
    "                     (first new-interval))\n",
    "                 (progn\n",
    "                   (push `(,(min (first interval) (first new-interval))\n",
    "                            ,(max (second interval) (second new-interval)))\n",
    "                         (cdr (last res)))\n",
    "                   (setf new-interval nil))\n",
    "                 (push interval (cdr (last res)))))\n",
    "            (t\n",
    "             (if (>= (second (car (last res)))\n",
    "                     (first interval))\n",
    "                 (setf (second (car (last res))) \n",
    "                       (max (second (first intervals))\n",
    "                            (second (car (last res)))))\n",
    "                 (push interval (cdr (last res))))))\n",
    "       finally (return (cdr res)))))"
   ]
  },
  {
   "cell_type": "markdown",
   "metadata": {},
   "source": [
    "## 58. Length of Last Word"
   ]
  },
  {
   "cell_type": "code",
   "execution_count": null,
   "metadata": {},
   "outputs": [],
   "source": [
    ";; 使用正则\n",
    "(ql:quickload \"cl-ppcre\")\n",
    "(defun length-of-lastword (s)\n",
    "  (length (car (last (ppcre:split \" \" s)))))\n",
    "\n",
    ";; 使用循环\n",
    "(defun length-of-lastword (s)\n",
    "  (loop for c across (reverse (string-trim \" \" s))\n",
    "     with res = 0\n",
    "     do (if (string= \" \" c)\n",
    "            (return res)\n",
    "            (incf res))\n",
    "     finally (return res)))"
   ]
  },
  {
   "cell_type": "markdown",
   "metadata": {},
   "source": [
    "## 59. Spiral Matrix II"
   ]
  },
  {
   "cell_type": "code",
   "execution_count": null,
   "metadata": {},
   "outputs": [],
   "source": [
    "(defun generate-matrix (n)\n",
    "  (let ((x 0)\n",
    "        (y 0)\n",
    "        (index 0)\n",
    "        (matrix (loop repeat n\n",
    "                   collect (loop repeat n collect 0)))\n",
    "        (n (1- n)))\n",
    "    (loop while (and (<= x n)\n",
    "                     (<= y n))\n",
    "       do\n",
    "         (loop for i from y to n\n",
    "            do (setf (nth i (nth x matrix)) (incf index)))\n",
    "         (loop for i from (1+ x) to n\n",
    "            do (setf (nth n (nth i matrix)) (incf index)))\n",
    "         (loop for i from (1- n) downto y\n",
    "            when (> n x)\n",
    "            do (setf (nth i (nth n matrix)) (incf index)))\n",
    "         (loop for i from (decf n) above x\n",
    "            do (setf (nth y (nth i matrix)) (incf index)))\n",
    "         (incf x)\n",
    "         (incf y)\n",
    "       finally (return matrix))))"
   ]
  },
  {
   "cell_type": "markdown",
   "metadata": {},
   "source": [
    "## 60. Permutation Sequence\n",
    "\n",
    "受启发：\n",
    "\n",
    "> 对于 n，第一个 (n-1)! 全排列的第一位是 1，第二个 (n-1)! 全排列的第一位 2……"
   ]
  },
  {
   "cell_type": "code",
   "execution_count": null,
   "metadata": {},
   "outputs": [],
   "source": [
    "(defun get-permutation (n k)\n",
    "  (let ((numbers (loop for i from 1 to n collect i))\n",
    "        (k (1- k)))\n",
    "    (with-output-to-string (res)\n",
    "      (loop while (>= k 0)\n",
    "         do (multiple-value-bind\n",
    "                  (q r)\n",
    "                (floor k (reduce #'* (loop for i from 1 below (length numbers)\n",
    "                                        collect i)))\n",
    "              (format res \"~a\" (nth q numbers))\n",
    "              (when (zerop r)\n",
    "                (return (format res \"~{~a~}\" (remove (nth q numbers) numbers))))\n",
    "              (setf k r)\n",
    "              (setf numbers (remove (nth q numbers) numbers))))\n",
    "      res)))"
   ]
  },
  {
   "cell_type": "markdown",
   "metadata": {},
   "source": [
    "## 61. Rotate List"
   ]
  },
  {
   "cell_type": "code",
   "execution_count": null,
   "metadata": {},
   "outputs": [],
   "source": [
    "(defun rotate-right (head k)\n",
    "  (let* ((size (length head))\n",
    "         (k (mod k size))\n",
    "         (size (1- size)))\n",
    "    (loop repeat k\n",
    "       do (setf head (append (last head) (subseq head 0 size)))\n",
    "       finally (return head))))"
   ]
  },
  {
   "cell_type": "markdown",
   "metadata": {},
   "source": [
    "## 62. Unique Paths\n",
    "\n",
    "动态规划可解。或者\n",
    "\n",
    "> (m+n-2)! / (m-1)! / (n-1)!\n",
    "\n",
    "查看 [Math solution, O(1) space](https://leetcode.com/problems/unique-paths/discuss/22958/Math-solution-O(1)-space)"
   ]
  },
  {
   "cell_type": "code",
   "execution_count": null,
   "metadata": {},
   "outputs": [],
   "source": [
    "(defun unique-paths (m n)\n",
    "  (let ((dp (loop repeat n\n",
    "               collect (loop repeat m collect 1)))\n",
    "        (m (1- m))\n",
    "        (n (1- n)))\n",
    "    (loop for i from 1 to n\n",
    "       do (loop for j from 1 to m\n",
    "             do (let ((a (if (>= (1- i) 0)\n",
    "                             (nth j (nth (1- i) dp))\n",
    "                             0))\n",
    "                      (b (if (>= (1- j) 0)\n",
    "                             (nth (1- j) (nth i dp))\n",
    "                             0)))\n",
    "                  (setf (nth j (nth i dp)) ; dp[i][j]\n",
    "                        (+ a b))))\n",
    "       finally (return (nth m (nth n dp))))))"
   ]
  },
  {
   "cell_type": "markdown",
   "metadata": {},
   "source": [
    "## 63. Unique Paths II\n",
    "\n",
    "思路跟上一题类似，但代码可以优化一下。See [Short JAVA solution](https://leetcode.com/problems/unique-paths-ii/discuss/23250/Short-JAVA-solution)。"
   ]
  },
  {
   "cell_type": "code",
   "execution_count": null,
   "metadata": {},
   "outputs": [],
   "source": [
    "(defun unique-paths-with-obstacles (obstacle-grid)\n",
    "  (let* ((m (length (first obstacle-grid)))\n",
    "         (dp (loop repeat m collect 0)))\n",
    "    (setf (first dp) 1)\n",
    "    (loop for row in obstacle-grid\n",
    "       do (loop for j to (1- m)\n",
    "             do (cond\n",
    "                  ((plusp (nth j row)) ; row[j] == 1\n",
    "                   (setf (nth j dp) 0))\n",
    "                  ((plusp j)\n",
    "                   (incf (nth j dp) (nth (1- j) dp)))))\n",
    "       finally (print dp) (return (nth (1- m) dp)))))"
   ]
  },
  {
   "cell_type": "markdown",
   "metadata": {},
   "source": [
    "## 64. Minimum Path Sum"
   ]
  },
  {
   "cell_type": "code",
   "execution_count": null,
   "metadata": {},
   "outputs": [],
   "source": [
    "(defun min-path-sum (grid)\n",
    "  (let* ((dp (loop repeat (length (first grid)) collect 0))\n",
    "         (m (length dp)))\n",
    "    (loop for row in grid\n",
    "       for row-idx below (length grid)\n",
    "       do (loop for i below m\n",
    "             do (if (zerop i)\n",
    "                    (incf (nth i dp) (nth i row))\n",
    "                    (if (zerop row-idx)\n",
    "                        (setf (nth i dp) \n",
    "                              (+ (nth (1- i) dp)\n",
    "                                 (nth i row)))\n",
    "                        (setf (nth i dp)\n",
    "                              (+ (nth i row)\n",
    "                                 (min (nth (1- i) dp)\n",
    "                                      (nth i dp)))))))\n",
    "       finally (return (nth (1- m) dp)))))"
   ]
  },
  {
   "cell_type": "markdown",
   "metadata": {},
   "source": [
    "## 65. Valid Number\n",
    "\n",
    "正则表达式就是思路了。"
   ]
  },
  {
   "cell_type": "code",
   "execution_count": null,
   "metadata": {},
   "outputs": [],
   "source": [
    "(ql:quickload \"cl-ppcre\")\n",
    "(defun is-number (s)\n",
    "  (ppcre:scan-to-strings \"^\\\\s*[+-]?\\\\d*((\\\\d+\\\\.)|(\\\\.\\\\d+))\\\\d*(e?[-+]?\\d+)\\\\s*$\" s))"
   ]
  },
  {
   "cell_type": "markdown",
   "metadata": {},
   "source": [
    "## 66. Plus One"
   ]
  },
  {
   "cell_type": "code",
   "execution_count": null,
   "metadata": {},
   "outputs": [],
   "source": [
    "(defun plus-one (digits)\n",
    "  (let ((res (copy-list digits))\n",
    "        (last-idx (1- (length digits))))\n",
    "    (incf (nth last-idx res))\n",
    "    (loop for i from last-idx to 0\n",
    "       do (if (< (nth i res) 10)\n",
    "              (return res)\n",
    "              (progn\n",
    "                (setf (nth i res) 0)\n",
    "                (if (zerop i)\n",
    "                    (push 1 res)\n",
    "                    (incf (nth (1- i) res)))))\n",
    "       finally (return res))))"
   ]
  },
  {
   "cell_type": "markdown",
   "metadata": {},
   "source": [
    "## 67. Add Binary"
   ]
  },
  {
   "cell_type": "code",
   "execution_count": null,
   "metadata": {},
   "outputs": [],
   "source": [
    "(defun add-binary (a b)\n",
    "  (let* ((size (max (length a)\n",
    "                    (length b)))\n",
    "         (fmt (format nil \"~~~d,1,0,'0@a\" size))\n",
    "         (out))\n",
    "    (loop for c1 across (reverse (format nil fmt a))\n",
    "       for c2 across (reverse (format nil fmt b))\n",
    "       with remain = 0\n",
    "       do (setf remain (eval (read-from-string\n",
    "                              (format nil \"(+ ~a ~a ~a)\" c1 c2 remain))))\n",
    "         (if (> remain 1)\n",
    "             (progn \n",
    "               (push (- remain 2) out)\n",
    "               (setf remain 1))\n",
    "             (progn\n",
    "               (push  remain out)\n",
    "               (setf remain 0)))\n",
    "       finally (if (zerop remain)\n",
    "                   (return out)\n",
    "                   (progn\n",
    "                     (push remain out)\n",
    "                     (return (format nil \"~{~a~}\" out)))))))\n",
    "\n",
    ";;; 或者更简单点\n",
    "(defun add-binary (a b)\n",
    "  (format nil \"~b\" (eval (read-from-string\n",
    "                          (format nil \"(+ #b~a #b~a)\" a b)))))"
   ]
  },
  {
   "cell_type": "markdown",
   "metadata": {},
   "source": [
    "## 68. Text Justification"
   ]
  },
  {
   "cell_type": "code",
   "execution_count": null,
   "metadata": {},
   "outputs": [],
   "source": [
    "(defun full-justify (words max-width)\n",
    "  (loop for word in words\n",
    "     with res\n",
    "     with line\n",
    "     with width = max-width\n",
    "     do (cond\n",
    "          ((null line)\n",
    "           (push word line)\n",
    "           (decf width (length word)))\n",
    "          ((>= (- width (length word) 1) 0)\n",
    "           (push (format nil \" ~a\" word) line)\n",
    "           (decf width (1+ (length word))))\n",
    "          (t\n",
    "           (push (justify-center (reverse line) width) res)\n",
    "           (setf width (- max-width (length word)) line `(,word))))\n",
    "     finally (push (format nil \"~{~a~}~V@{~a~:*~}\"\n",
    "                           (reverse line) width \" \") res)\n",
    "       (return (reverse res))))\n",
    "\n",
    "(defun justify-center (line width)\n",
    "  \"将一行文字 line 居中对齐，可填充剩余空格数为 width\"\n",
    "  (let ((interspace (1- (length line))))\n",
    "    (if (zerop interspace)\n",
    "        (format nil \"~{~a~}~V@{~a~:*~}\" line width \" \")\n",
    "        (progn\n",
    "          (when (> width interspace)\n",
    "            (setf line (loop for word in line\n",
    "                          with n = (floor width interspace)\n",
    "                          collect (format nil \"~a~V@{~a~:*~}\" word n \" \"))\n",
    "                  width (mod width interspace))\n",
    "            (setf (nth interspace line)\n",
    "                  (string-right-trim \" \" (nth interspace line))))\n",
    "          (format nil \"~{~a~}\" \n",
    "                  (loop for word in line\n",
    "                     collect (if (>= (decf width) 0)\n",
    "                                 (format nil \"~a \" word)\n",
    "                                 word)))))))"
   ]
  },
  {
   "cell_type": "markdown",
   "metadata": {},
   "source": [
    "## 69. Sqrt(x)"
   ]
  },
  {
   "cell_type": "code",
   "execution_count": null,
   "metadata": {},
   "outputs": [],
   "source": [
    "(defun my-sqrt (x)\n",
    "  (let* ((lo 1)\n",
    "         (hi (floor x))\n",
    "         (mid (floor (+ lo hi) 2)))\n",
    "    (loop\n",
    "       do (cond\n",
    "            ((= (* mid mid) x)\n",
    "             (return mid))\n",
    "            ((> (* mid mid) x)\n",
    "             (setf hi mid))\n",
    "            (t\n",
    "             (setf lo mid)))\n",
    "         (if (= mid (floor (+ lo hi) 2))\n",
    "             (return mid)\n",
    "             (setf mid (floor (+ lo hi) 2))))))"
   ]
  },
  {
   "cell_type": "markdown",
   "metadata": {},
   "source": [
    "## 70. Climbing Stairs\n",
    "\n",
    "动态规划解法：f(n) = f(n-1) + f(n-2)"
   ]
  },
  {
   "cell_type": "code",
   "execution_count": null,
   "metadata": {},
   "outputs": [],
   "source": [
    "(let ((table (make-hash-table)))\n",
    "  (setf (gethash 1 table) 1)\n",
    "  (setf (gethash 2 table) 2)\n",
    "  (defun climb-stairs (n)\n",
    "    (loop for i from 3 to n\n",
    "       do (setf (gethash i table)\n",
    "                (+ (gethash (1- i) table)\n",
    "                   (gethash (- i 2) table)))\n",
    "       finally (return (gethash n table)))))"
   ]
  },
  {
   "cell_type": "markdown",
   "metadata": {},
   "source": [
    "## 71. Simplify Path"
   ]
  },
  {
   "cell_type": "code",
   "execution_count": null,
   "metadata": {},
   "outputs": [],
   "source": [
    "(ql:quickload \"split-sequence\")\n",
    "(defun simplify-path (path)\n",
    "  (loop for p in (split-sequence:split-sequence #\\/ path)\n",
    "     with res\n",
    "     do (cond\n",
    "          ((string= \"..\" p)\n",
    "           (pop res))\n",
    "          ((string= \".\" p))\n",
    "          ((string= \"\" p))\n",
    "          (t\n",
    "           (push p res)))\n",
    "     finally (return (format nil \"/~{~a~}\" (reverse res)))))"
   ]
  },
  {
   "cell_type": "markdown",
   "metadata": {},
   "source": [
    "## 72. Edit Distance\n",
    "\n",
    "对于分别在 word1、word2 中的索引 i、j，`md(i, j)` 表示将 `word1[:i+1]` 转换成 `word2[:j+1]` 需要的最少步数，有：\n",
    "$$md(i, j) = \\begin{cases}\n",
    "md(i-1, j-1) & \\text(word1[i] == word2[j])\\\\\n",
    "1 + min(md(i-1, j-1), md(i, j-1), md(i-1, j)) & \\text(word1[i] != word2[j])\\\\\n",
    "\\end{cases}$$\n",
    "\n",
    "mark 一下。"
   ]
  },
  {
   "cell_type": "code",
   "execution_count": null,
   "metadata": {},
   "outputs": [],
   "source": [
    "(defun min-distance (word1 word2)\n",
    "  (let* ((m (length word1))\n",
    "         (n (length word2))\n",
    "         (table (loop repeat (1+ n)\n",
    "                   collect (loop repeat (1+ m) collect 0))))\n",
    "    (loop for i to m\n",
    "       do (setf (nth i (first table)) i))\n",
    "    (loop for i to n\n",
    "       do (setf (first (nth i table)) i))\n",
    "    (loop for i from 1 to n\n",
    "       do (loop for j from 1 to m\n",
    "             do (setf (nth j (nth i table))\n",
    "                      (if (string= (elt word1 (1- j))\n",
    "                                   (elt word2 (1- i)))\n",
    "                          (nth (1- j) (nth (1- i) table))\n",
    "                          (1+ (min (nth (1- j) (nth (1- i) table))\n",
    "                                   (nth (1- j) (nth i table))\n",
    "                                   (nth j (nth (1- i) table)))))))\n",
    "       finally (return (nth m (nth n table))))))"
   ]
  },
  {
   "cell_type": "markdown",
   "metadata": {},
   "source": [
    "## 73. Set Matrix Zeroes"
   ]
  },
  {
   "cell_type": "code",
   "execution_count": null,
   "metadata": {},
   "outputs": [],
   "source": [
    "(defun set-zeroes (matrix)\n",
    "  (loop for rc in (loop for i below (length matrix)\n",
    "                     append (loop for j below (length (first matrix))\n",
    "                               if (zerop (nth j (nth i matrix)))\n",
    "                               collect `(,i ,j)))\n",
    "     do (loop for j below (length (first matrix))\n",
    "           do (setf (nth j (nth (first rc) matrix)) 0))\n",
    "       (loop for i below (length matrix)\n",
    "          do (setf (nth (second rc) (nth i matrix)) 0))))"
   ]
  }
 ],
 "metadata": {
  "kernelspec": {
   "display_name": "SBCL Lisp",
   "language": "lisp",
   "name": "lisp"
  },
  "language_info": {
   "codemirror_mode": "text/x-common-lisp",
   "mimetype": "text/x-common-lisp",
   "name": "common-lisp",
   "pygments_lexer": "common-lisp",
   "version": "X3J13"
  }
 },
 "nbformat": 4,
 "nbformat_minor": 2
}
