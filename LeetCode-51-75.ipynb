{
 "cells": [
  {
   "cell_type": "markdown",
   "metadata": {},
   "source": [
    "## 51. N-Queens"
   ]
  },
  {
   "cell_type": "code",
   "execution_count": null,
   "metadata": {},
   "outputs": [],
   "source": [
    "(defun solve-n-queens (n)\n",
    "  (let ((solutions))\n",
    "    (loop for col below n\n",
    "       do (loop for item in (find-solution 0 col n `(,col))\n",
    "             do  (let ((solution (loop repeat n\n",
    "                                    collect (loop repeat n\n",
    "                                               collect \".\"))))\n",
    "                   (loop for col in item\n",
    "                      for row below (1- n)\n",
    "                      do (setf (nth col (nth row solution)) \"Q\")\n",
    "                      finally (push solution solutions))))\n",
    "       finally (return solutions))))\n",
    "\n",
    "(defun next-positions (n &optional placed)\n",
    "  \"对已顺序放置 placed 的 n 皇后问题，返回下一行可能的放置位置\"\n",
    "  (set-difference (loop for i below n collect i)\n",
    "                  (loop for col in placed\n",
    "                     for i from (length placed) downto 1\n",
    "                     append `(,(- col i) ,col ,(+ col i)))))\n",
    "\n",
    "(defun find-solution (row col n &optional placed)\n",
    "  \"placed 是已放置的皇后，第 i 个元素表示 i 行 placed[i] 列放置了皇后，\n",
    "   row、col 分别是当前行、列，且 placed[row] == col。\n",
    "   对已放置在 row 行 col 列、\n",
    "   前面行已放置元素为 placed（长度就是 row+1）的 n 皇后问题，找出所有解\"\n",
    "  (let ((positions (next-positions n placed)))\n",
    "    (cond\n",
    "      ((= row (- n 1))\n",
    "       `(,placed))\n",
    "      (t\n",
    "       (loop for p in positions\n",
    "          append (find-solution\n",
    "                  (1+ row) p n (append placed `(,p))))))))"
   ]
  }
 ],
 "metadata": {
  "kernelspec": {
   "display_name": "SBCL Lisp",
   "language": "lisp",
   "name": "lisp"
  },
  "language_info": {
   "codemirror_mode": "text/x-common-lisp",
   "mimetype": "text/x-common-lisp",
   "name": "common-lisp",
   "pygments_lexer": "common-lisp",
   "version": "X3J13"
  }
 },
 "nbformat": 4,
 "nbformat_minor": 2
}
