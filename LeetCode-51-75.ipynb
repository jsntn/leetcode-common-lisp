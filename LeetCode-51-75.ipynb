{
 "cells": [
  {
   "cell_type": "markdown",
   "metadata": {},
   "source": [
    "## 51. N-Queens\n",
    "\n",
    "回溯法"
   ]
  },
  {
   "cell_type": "code",
   "execution_count": null,
   "metadata": {},
   "outputs": [],
   "source": [
    "(defun solve-n-queens (n)\n",
    "  (let ((solutions))\n",
    "    (loop for col below n\n",
    "       do (loop for item in (find-solution 0 n `(,col))\n",
    "             do  (let ((solution (loop repeat n\n",
    "                                    collect (loop repeat n\n",
    "                                               collect \".\"))))\n",
    "                   (loop for col in item\n",
    "                      for row below (1- n)\n",
    "                      do (setf (nth col (nth row solution)) \"Q\")\n",
    "                      finally (push solution solutions))))\n",
    "       finally (return solutions))))\n",
    "\n",
    "(defun next-positions (n &optional placed)\n",
    "  \"对已顺序放置 placed 的 n 皇后问题，返回下一行可能的放置位置\"\n",
    "  (set-difference (loop for i below n collect i)\n",
    "                  (loop for col in placed\n",
    "                     for i from (length placed) downto 1\n",
    "                     append `(,(- col i) ,col ,(+ col i)))))\n",
    "\n",
    "(defun find-solution (row n &optional placed)\n",
    "  \"placed 是已放置的皇后，第 i 个元素表示 i 行 placed[i] 列放置了皇后，\n",
    "   row 是当前行，placed[row] == placed[-1]。\n",
    "   对于前面行已放置元素为 placed（长度为 row+1）的 n 皇后问题，找出所有解\"\n",
    "  (cond\n",
    "    ((= row (- n 1))\n",
    "     `(,placed))\n",
    "    (t\n",
    "     (loop for p in (next-positions n placed)\n",
    "        append (find-solution\n",
    "                (1+ row) n (append placed `(,p)))))))"
   ]
  },
  {
   "cell_type": "markdown",
   "metadata": {},
   "source": [
    "## 52. N-Queens II"
   ]
  },
  {
   "cell_type": "code",
   "execution_count": null,
   "metadata": {},
   "outputs": [],
   "source": [
    "(defun total-n-queens (n)\n",
    "  (length\n",
    "    (loop for col below n\n",
    "       append (loop for item in (find-solution 0 n `(,col))\n",
    "             collect item))))\n",
    "\n",
    "(defun next-positions (n &optional placed)\n",
    "  \"对已顺序放置 placed 的 n 皇后问题，返回下一行可能的放置位置\"\n",
    "  (set-difference (loop for i below n collect i)\n",
    "                  (loop for col in placed\n",
    "                     for i from (length placed) downto 1\n",
    "                     append `(,(- col i) ,col ,(+ col i)))))\n",
    "\n",
    "(defun find-solution (row n &optional placed)\n",
    "  \"placed 是已放置的皇后，第 i 个元素表示 i 行 placed[i] 列放置了皇后，\n",
    "   row 是当前行，placed[row] == placed[-1]。\n",
    "   对于前面行已放置元素为 placed（长度为 row+1）的 n 皇后问题，找出所有解\"\n",
    "  (cond\n",
    "    ((= row (- n 1))\n",
    "     `(,placed))\n",
    "    (t\n",
    "     (loop for p in (next-positions n placed)\n",
    "        append (find-solution\n",
    "                (1+ row) n (append placed `(,p)))))))"
   ]
  },
  {
   "cell_type": "markdown",
   "metadata": {},
   "source": [
    "## 53. Maximum Subarray"
   ]
  },
  {
   "cell_type": "code",
   "execution_count": null,
   "metadata": {},
   "outputs": [],
   "source": [
    "(defun max-sub-array (nums)\n",
    "  (let* ((lo 0)\n",
    "         (hi (1- (length nums)))\n",
    "         (sum (apply #'+ nums))\n",
    "         (max sum))\n",
    "    (if (> (apply #'max nums) max)\n",
    "        (setf max (apply #'max nums)))\n",
    "    (loop while (< lo hi)\n",
    "       do (let* ((n-lo (next nums lo 1))\n",
    "                 (sum1 (apply #'+ (subseq nums lo (1+ n-lo))))\n",
    "                 (n-hi (next nums hi -1))\n",
    "                 (sum2 (apply #'+ (subseq nums n-hi (1+ hi)))))\n",
    "            (if (< sum1 sum2)\n",
    "                (setf lo (1+ n-lo) sum (- sum sum1))\n",
    "                (setf hi (1- n-hi) sum (- sum sum2)))\n",
    "            (if (> sum max)\n",
    "                (setf max sum)))\n",
    "       finally (return max))))\n",
    "\n",
    "(defun next (nums start step)\n",
    "  \"获取从 start 位置开始，第一个负数开始的连续负数序列中的最后一个的位置\"\n",
    "  (loop while (< -1 start (length nums))\n",
    "     do (if (>= (nth start nums) 0)\n",
    "            (incf start step)\n",
    "            (return (loop while (and (< 0 (+ start step) (length nums))\n",
    "                                     (< (nth (incf start step) nums) 0))\n",
    "                       finally (return (- start step)))))\n",
    "     finally (return (- start step))))\n",
    "\n",
    ";;; Another amazing way\n",
    ";;; https://leetcode.com/problems/maximum-subarray/discuss/20396/Easy-Python-Way\n",
    "(defun max-sub-array (nums)\n",
    "  (loop for i from 1 below (length nums)\n",
    "     do (if (plusp (nth (1- i) nums))\n",
    "            (incf (nth i nums) (nth (1- i) nums)))\n",
    "     finally (return (apply #'max nums))))"
   ]
  }
 ],
 "metadata": {
  "kernelspec": {
   "display_name": "SBCL Lisp",
   "language": "lisp",
   "name": "lisp"
  },
  "language_info": {
   "codemirror_mode": "text/x-common-lisp",
   "mimetype": "text/x-common-lisp",
   "name": "common-lisp",
   "pygments_lexer": "common-lisp",
   "version": "X3J13"
  }
 },
 "nbformat": 4,
 "nbformat_minor": 2
}
