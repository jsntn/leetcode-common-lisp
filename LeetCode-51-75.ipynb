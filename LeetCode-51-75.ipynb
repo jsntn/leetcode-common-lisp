{
 "cells": [
  {
   "cell_type": "markdown",
   "metadata": {},
   "source": [
    "## 51. N-Queens\n",
    "\n",
    "回溯法"
   ]
  },
  {
   "cell_type": "code",
   "execution_count": null,
   "metadata": {},
   "outputs": [],
   "source": [
    "(defun solve-n-queens (n)\n",
    "  (let ((solutions))\n",
    "    (loop for col below n\n",
    "       do (loop for item in (find-solution 0 n `(,col))\n",
    "             do  (let ((solution (loop repeat n\n",
    "                                    collect (loop repeat n\n",
    "                                               collect \".\"))))\n",
    "                   (loop for col in item\n",
    "                      for row below (1- n)\n",
    "                      do (setf (nth col (nth row solution)) \"Q\")\n",
    "                      finally (push solution solutions))))\n",
    "       finally (return solutions))))\n",
    "\n",
    "(defun next-positions (n &optional placed)\n",
    "  \"对已顺序放置 placed 的 n 皇后问题，返回下一行可能的放置位置\"\n",
    "  (set-difference (loop for i below n collect i)\n",
    "                  (loop for col in placed\n",
    "                     for i from (length placed) downto 1\n",
    "                     append `(,(- col i) ,col ,(+ col i)))))\n",
    "\n",
    "(defun find-solution (row n &optional placed)\n",
    "  \"placed 是已放置的皇后，第 i 个元素表示 i 行 placed[i] 列放置了皇后，\n",
    "   row 是当前行，placed[row] == placed[-1]。\n",
    "   对于前面行已放置元素为 placed（长度为 row+1）的 n 皇后问题，找出所有解\"\n",
    "  (cond\n",
    "    ((= row (- n 1))\n",
    "     `(,placed))\n",
    "    (t\n",
    "     (loop for p in (next-positions n placed)\n",
    "        append (find-solution\n",
    "                (1+ row) n (append placed `(,p)))))))"
   ]
  },
  {
   "cell_type": "markdown",
   "metadata": {},
   "source": [
    "## 52. N-Queens II"
   ]
  },
  {
   "cell_type": "code",
   "execution_count": null,
   "metadata": {},
   "outputs": [],
   "source": [
    "(defun total-n-queens (n)\n",
    "  (length\n",
    "    (loop for col below n\n",
    "       append (loop for item in (find-solution 0 n `(,col))\n",
    "             collect item))))\n",
    "\n",
    "(defun next-positions (n &optional placed)\n",
    "  \"对已顺序放置 placed 的 n 皇后问题，返回下一行可能的放置位置\"\n",
    "  (set-difference (loop for i below n collect i)\n",
    "                  (loop for col in placed\n",
    "                     for i from (length placed) downto 1\n",
    "                     append `(,(- col i) ,col ,(+ col i)))))\n",
    "\n",
    "(defun find-solution (row n &optional placed)\n",
    "  \"placed 是已放置的皇后，第 i 个元素表示 i 行 placed[i] 列放置了皇后，\n",
    "   row 是当前行，placed[row] == placed[-1]。\n",
    "   对于前面行已放置元素为 placed（长度为 row+1）的 n 皇后问题，找出所有解\"\n",
    "  (cond\n",
    "    ((= row (- n 1))\n",
    "     `(,placed))\n",
    "    (t\n",
    "     (loop for p in (next-positions n placed)\n",
    "        append (find-solution\n",
    "                (1+ row) n (append placed `(,p)))))))"
   ]
  },
  {
   "cell_type": "markdown",
   "metadata": {},
   "source": [
    "## 53. Maximum Subarray"
   ]
  },
  {
   "cell_type": "code",
   "execution_count": null,
   "metadata": {},
   "outputs": [],
   "source": [
    "(defun max-sub-array (nums)\n",
    "  (let* ((lo 0)\n",
    "         (hi (1- (length nums)))\n",
    "         (sum (apply #'+ nums))\n",
    "         (max sum))\n",
    "    (if (> (apply #'max nums) max)\n",
    "        (setf max (apply #'max nums)))\n",
    "    (loop while (< lo hi)\n",
    "       do (let* ((n-lo (next nums lo 1))\n",
    "                 (sum1 (apply #'+ (subseq nums lo (1+ n-lo))))\n",
    "                 (n-hi (next nums hi -1))\n",
    "                 (sum2 (apply #'+ (subseq nums n-hi (1+ hi)))))\n",
    "            (if (< sum1 sum2)\n",
    "                (setf lo (1+ n-lo) sum (- sum sum1))\n",
    "                (setf hi (1- n-hi) sum (- sum sum2)))\n",
    "            (if (> sum max)\n",
    "                (setf max sum)))\n",
    "       finally (return max))))\n",
    "\n",
    "(defun next (nums start step)\n",
    "  \"获取从 start 位置开始，第一个负数开始的连续负数序列中的最后一个的位置\"\n",
    "  (loop while (< -1 start (length nums))\n",
    "     do (if (>= (nth start nums) 0)\n",
    "            (incf start step)\n",
    "            (return (loop while (and (< 0 (+ start step) (length nums))\n",
    "                                     (< (nth (incf start step) nums) 0))\n",
    "                       finally (return (- start step)))))\n",
    "     finally (return (- start step))))\n",
    "\n",
    ";;; Another amazing way\n",
    ";;; https://leetcode.com/problems/maximum-subarray/discuss/20396/Easy-Python-Way\n",
    "(defun max-sub-array (nums)\n",
    "  (loop for i from 1 below (length nums)\n",
    "     do (if (plusp (nth (1- i) nums))\n",
    "            (incf (nth i nums) (nth (1- i) nums)))\n",
    "     finally (return (apply #'max nums))))"
   ]
  },
  {
   "cell_type": "markdown",
   "metadata": {},
   "source": [
    "## 54. Spiral Matrix\n",
    "\n",
    "找规律。\n",
    "\n",
    "假设开始点为 (x, y)，结束点为 (m, n)。\n",
    "\n",
    "1. 向右：(x, y) -> (x, n)\n",
    "2. 向下：(x+1, n) -> (m, n)\n",
    "3. 向左：(m, n) -> (m, y)\n",
    "4. 向上：(m, y) -> (x+1, y)\n",
    "5. 汇聚值，x、y 加一，m、n 减一，重复步骤 1-5"
   ]
  },
  {
   "cell_type": "code",
   "execution_count": null,
   "metadata": {},
   "outputs": [],
   "source": [
    "(defun spiral-order (matrix)\n",
    "  (let ((m (1- (length matrix)))\n",
    "        (n (1- (length (first matrix))))\n",
    "        (x 0)\n",
    "        (y 0))\n",
    "    (loop while (and (<= x m)\n",
    "                     (<= y n))\n",
    "       append (append (loop for i from y to n\n",
    "                         collect (nth i (nth x matrix)))\n",
    "                      (loop for i from (1+ x) to m\n",
    "                         collect (nth n (nth i matrix)))\n",
    "                      (loop for i from (decf n) downto y\n",
    "                         when (> m x)\n",
    "                         collect (nth i (nth m matrix)))\n",
    "                      (loop for i from (decf m) above x\n",
    "                         collect (nth y (nth i matrix))))\n",
    "       do (incf x)\n",
    "         (incf y))))"
   ]
  },
  {
   "cell_type": "markdown",
   "metadata": {},
   "source": [
    "## 55. Jump Game\n",
    "\n",
    "跟之前做过的一道题类似，用表存储某个位置是否能到达最后。\n",
    "\n",
    "$$canjump(0) = {\\exists} \\text{canjump(i)}, {i \\le nums[0]} $$"
   ]
  },
  {
   "cell_type": "code",
   "execution_count": null,
   "metadata": {},
   "outputs": [],
   "source": [
    "(defun can-jump (nums)\n",
    "  (if (null nums) (return-from can-jump nil))\n",
    "  (let* ((n (length nums))\n",
    "         (table (loop repeat n collect nil)))\n",
    "    (setf (nth (1- n) table) t)\n",
    "    (loop for i from (- n 2) downto 0\n",
    "       do (loop for j from 1 to (nth i nums)\n",
    "             when (and (< (+ i j) n)\n",
    "                       (nth (+ i j) table))\n",
    "             do (return (setf (nth i table) t))))\n",
    "    (first table)))"
   ]
  },
  {
   "cell_type": "markdown",
   "metadata": {},
   "source": [
    "## 56. Merge Intervals"
   ]
  },
  {
   "cell_type": "code",
   "execution_count": null,
   "metadata": {},
   "outputs": [],
   "source": [
    "(defun merge-i (intervals)\n",
    "  (let* ((intervals (sort intervals #'(lambda (a b) (< (first a)\n",
    "                                                       (first b)))))\n",
    "         (res `(,(car intervals)))\n",
    "         (intervals (cdr intervals)))\n",
    "    (loop for interval in intervals\n",
    "       do (if (>= (second (car (last res)))\n",
    "                  (first interval))\n",
    "              (setf (second (car (last res))) \n",
    "                    (max (second (first intervals))\n",
    "                         (second (car (last res)))))\n",
    "              (push interval (cdr (last res))))\n",
    "       finally (return res))))"
   ]
  },
  {
   "cell_type": "markdown",
   "metadata": {},
   "source": [
    "## 57. Insert Interval"
   ]
  },
  {
   "cell_type": "code",
   "execution_count": null,
   "metadata": {},
   "outputs": [],
   "source": [
    "(defun insert-i (intervals new-interval)\n",
    "  (let ((res `(nil)))\n",
    "    (if (null intervals)\n",
    "        (return-from insert-i `(,new-interval)))\n",
    "    (loop for interval in intervals\n",
    "       do (cond\n",
    "            (new-interval\n",
    "             (if (>= (second interval)\n",
    "                     (first new-interval))\n",
    "                 (progn\n",
    "                   (push `(,(min (first interval) (first new-interval))\n",
    "                            ,(max (second interval) (second new-interval)))\n",
    "                         (cdr (last res)))\n",
    "                   (setf new-interval nil))\n",
    "                 (push interval (cdr (last res)))))\n",
    "            (t\n",
    "             (if (>= (second (car (last res)))\n",
    "                     (first interval))\n",
    "                 (setf (second (car (last res))) \n",
    "                       (max (second (first intervals))\n",
    "                            (second (car (last res)))))\n",
    "                 (push interval (cdr (last res))))))\n",
    "       finally (return (cdr res)))))"
   ]
  },
  {
   "cell_type": "markdown",
   "metadata": {},
   "source": [
    "## 58. Length of Last Word"
   ]
  },
  {
   "cell_type": "code",
   "execution_count": null,
   "metadata": {},
   "outputs": [],
   "source": [
    ";; 使用正则\n",
    "(ql:quickload \"cl-ppcre\")\n",
    "(defun length-of-lastword (s)\n",
    "  (length (car (last (ppcre:split \" \" s)))))\n",
    "\n",
    ";; 使用循环\n",
    "(defun length-of-lastword (s)\n",
    "  (loop for c across (reverse (string-trim \" \" s))\n",
    "     with res = 0\n",
    "     do (if (string= \" \" c)\n",
    "            (return res)\n",
    "            (incf res))\n",
    "     finally (return res)))"
   ]
  },
  {
   "cell_type": "markdown",
   "metadata": {},
   "source": [
    "## 59. Spiral Matrix II"
   ]
  },
  {
   "cell_type": "code",
   "execution_count": null,
   "metadata": {},
   "outputs": [],
   "source": [
    "(defun generate-matrix (n)\n",
    "  (let ((x 0)\n",
    "        (y 0)\n",
    "        (index 0)\n",
    "        (matrix (loop repeat n\n",
    "                   collect (loop repeat n collect 0)))\n",
    "        (n (1- n)))\n",
    "    (loop while (and (<= x n)\n",
    "                     (<= y n))\n",
    "       do\n",
    "         (loop for i from y to n\n",
    "            do (setf (nth i (nth x matrix)) (incf index)))\n",
    "         (loop for i from (1+ x) to n\n",
    "            do (setf (nth n (nth i matrix)) (incf index)))\n",
    "         (loop for i from (1- n) downto y\n",
    "            when (> n x)\n",
    "            do (setf (nth i (nth n matrix)) (incf index)))\n",
    "         (loop for i from (decf n) above x\n",
    "            do (setf (nth y (nth i matrix)) (incf index)))\n",
    "         (incf x)\n",
    "         (incf y)\n",
    "       finally (return matrix))))"
   ]
  },
  {
   "cell_type": "code",
   "execution_count": null,
   "metadata": {},
   "outputs": [],
   "source": []
  }
 ],
 "metadata": {
  "kernelspec": {
   "display_name": "SBCL Lisp",
   "language": "lisp",
   "name": "lisp"
  },
  "language_info": {
   "codemirror_mode": "text/x-common-lisp",
   "mimetype": "text/x-common-lisp",
   "name": "common-lisp",
   "pygments_lexer": "common-lisp",
   "version": "X3J13"
  }
 },
 "nbformat": 4,
 "nbformat_minor": 2
}
